{
  "nbformat": 4,
  "nbformat_minor": 0,
  "metadata": {
    "colab": {
      "name": "Angel Vo Analytics Manager Code.ipynb",
      "provenance": [],
      "collapsed_sections": [],
      "authorship_tag": "ABX9TyPfO/KwUjJyaBRNAW4Tb5fg",
      "include_colab_link": true
    },
    "kernelspec": {
      "name": "python3",
      "display_name": "Python 3"
    },
    "language_info": {
      "name": "python"
    }
  },
  "cells": [
    {
      "cell_type": "markdown",
      "metadata": {
        "id": "view-in-github",
        "colab_type": "text"
      },
      "source": [
        "<a href=\"https://colab.research.google.com/github/angelmarievo/mysterydata/blob/main/Angel_Vo_Analytics_Manager_Code.ipynb\" target=\"_parent\"><img src=\"https://colab.research.google.com/assets/colab-badge.svg\" alt=\"Open In Colab\"/></a>"
      ]
    },
    {
      "cell_type": "markdown",
      "metadata": {
        "id": "KS_fzeYyxNjq"
      },
      "source": [
        "# **Demystifiying Mystery Data**\n",
        "Creator: Angel Vo\n",
        "\n",
        "Date Started: December 5, 2021\n",
        "\n",
        "*Purpose: This interactive Python notebook includes a log of detailed strategies, possible solutions, and approaches considered.*\n",
        "\n",
        "## Table of Contents\n",
        "1. First Observations\n",
        "2. The Variables\n",
        "3. Initial Approaches & Ideas\n",
        "4. Machine Learning Algorithms to Implement (Predictive Models)\n",
        "5. Metrics to Note (Ongoing Idea Log)\n",
        "6. Visualization Ideas: Featured Plots\n",
        "7. Key Questions\n",
        "---\n",
        "## Code Organization\n",
        "1. Data Exploration\n",
        "2. Data Cleaning\n",
        "3. Data Modeling\n",
        "4. Model Evaluation"
      ]
    },
    {
      "cell_type": "markdown",
      "metadata": {
        "id": "v9XI_A220c9I"
      },
      "source": [
        "---\n",
        "# **First Observations**\n",
        "*16,000 rows x 15 columns*\n",
        "\n",
        "All variables are \"objects\" (text strings) except for...\n",
        "\n",
        "* LineNumber                (integer)\n",
        "* LineRequestedQuantity     (integer)\n",
        "* LineShippedQuantity       (integer)\n",
        "\n",
        "**2 Columns with Missing Values:**\n",
        "\n",
        "  - \"To Intended Use For Loc\" contains 29 null values\n",
        "\n",
        "  - \"To Region\" contains 310 null values\n",
        "\n",
        "The missing entries all have \"CAPITAL\" for the \"To Intended Use from Loc\" column\n",
        "\n",
        "Differing To's and From's\n",
        "\n",
        "Missing Data has value WHEN and IF there is a pattern!\n",
        "\n",
        "Patterns from missing data reveal information.\n",
        "\n",
        "How to find a pattern from something that isn't there? Explain how and why.\n"
      ]
    },
    {
      "cell_type": "markdown",
      "metadata": {
        "id": "GeGHM-fK3PIq"
      },
      "source": [
        "# **The Variables**\n",
        "\n",
        "Move Order Number          \n",
        "From Intended Use For Loc       \n",
        "To Intended Use For Loc        \n",
        "From Warehouse              \n",
        "From Location              \n",
        "From Region                  \n",
        "To Warehouse               \n",
        "TO Location                \n",
        "To Region                   \n",
        "Line Number                \n",
        "Line GPN                  \n",
        "Line Requested Quantity    \n",
        "Line Shipped Quantity       \n",
        "First Shipment Date        \n",
        "Shipment Delivery UTC  "
      ]
    },
    {
      "cell_type": "markdown",
      "metadata": {
        "id": "qo5L5wMe6GoB"
      },
      "source": [
        "# **Initial Approaches & Ideas**    \n",
        "\n",
        "##Possible End-to-End Solutions:##\n",
        "- Build Machine Learning Model to Save Time\n",
        "- Create Database Schema Proposal to Optimize Data Storage\n",
        "- Present Strategies for Optimizing Data Accuracy\n",
        "\n",
        "##Launching Points:##\n",
        "- Find relationships between each factor\n",
        "- Group possibly related factors\n",
        "- Regex matching entries between columns (To-From)\n",
        "- Break related rows into tables (database)\n",
        "- Create SQL queries to extract and filter data\n",
        "- Explain rationale/logic for grouping factors together\n",
        "- Convert time variables to increments or chunks\n",
        "- Create a time series analysis graph\n",
        "- Demonstrate change over time of each region\n",
        "- Pin-point when exactly ending deliveries started failing for each region\n",
        "- Show which regions/warehouses/locations are the most productive\n",
        "\n",
        "##Ways to Quantify Productivity##\n",
        "- The least amount of time between initial shipment and delivery\n",
        "- The most matching (correlated) data show stronger relationships\n",
        "- Most identified matches between line requested & actual shipments\n",
        "\n",
        "\n"
      ]
    },
    {
      "cell_type": "markdown",
      "metadata": {
        "id": "hYn4D-eJ5qHO"
      },
      "source": [
        "---\n",
        "\n",
        "# **Machine Learning Algorithms to Implement (Predictive Models)**\n",
        "###K Means (Clustering Analysis)###\n",
        "- Mini Batch K-Means (additional Clustering Algorithm alternative)\n",
        "- Rationale/Why?: This is sizeable dataset with a great number of categories known, which means we could accurately predict statistical relatedness between variables and evaluate the accuracy.\n",
        "\n",
        "\n",
        "###Agglomerative Clustering\n",
        "- Rationale/Why? Can also scale to large number of samples when it is used jointly with a connectivity matrix\n",
        "\n",
        "###Time Series Prediction\n",
        "\n",
        "- Rationale/Why? We can predict how long each facility takes to complete an order with a time series prediction.\n",
        "\n",
        "- Actionable Insights:\n",
        " 1. By looking at the flow of deliveries over time, we can find out figure out when productivity slows down [around what month(s), finding a pattern or seasonality]\n",
        " 2. Business Context: Discovering Areas of Organizational Lag\n",
        "\n",
        "- **Translation to Stakeholders**:\n",
        "Determinining areas for improvement/growth\n",
        "increasing supervisor-to-employee ratio?\n",
        "Opening further discussion for maximizing time\n",
        "Finding when deliveries are the most on time\n",
        "Comparison of Projected Delivery Time vs. Actual\n",
        "\n"
      ]
    },
    {
      "cell_type": "markdown",
      "metadata": {
        "id": "FV46AajIS9u1"
      },
      "source": [
        "---\n",
        "\n",
        "# **Metrics to Note (Ongoing Idea Log)**\n",
        "Service Level Agreements (SLAs)\n",
        "1. Service Availability - amount of time service is available for use (time slot)\n",
        "2. Error Rates - percentages in significant variables (production failures, missed deliveries)\n",
        "3. KPIs for third-party logistics (3PL)\n"
      ]
    },
    {
      "cell_type": "markdown",
      "metadata": {
        "id": "9IW81pEJHpJp"
      },
      "source": [
        "# **Visualization Ideas: Featured Plots**\n",
        "- Bar charts to compare between categorical variables\n",
        "- Time Series to Show Delivery Flow Over Time\n",
        "- Multivariate Time Series: These are datasets where two or more variables are observed at each time."
      ]
    },
    {
      "cell_type": "markdown",
      "metadata": {
        "id": "cMAaFfiT6ikD"
      },
      "source": [
        "# **Key Questions**\n",
        "\n",
        "*Why are there more initial shipment records than shipment delivery records?*\n",
        "\n",
        "*What is the average difference between each initial shipment time and destination delivery time?*\n",
        "\n",
        "*Which regions are at high risk (due to missing entries?)?*"
      ]
    },
    {
      "cell_type": "markdown",
      "metadata": {
        "id": "H3LD0I9CxpD6"
      },
      "source": [
        "---\n",
        "\n",
        "# *Data Exploration*\n",
        "\n",
        "Objective: Performing Initial Exploratory Data Analysis\n",
        "\n",
        "Refinining Columns/Dimensions in More Detail\n",
        "\n",
        "- Line Requested Quantity = Numerical, Scalar\n",
        "\n",
        "- Line Shipped Quantity = Numerical, Scalar\n",
        "\n",
        "- Line Number = ???"
      ]
    },
    {
      "cell_type": "code",
      "metadata": {
        "id": "WOy_BG_5xksm"
      },
      "source": [
        "# Import libraries\n",
        "import numpy as np\n",
        "import pandas as pd"
      ],
      "execution_count": null,
      "outputs": []
    },
    {
      "cell_type": "code",
      "metadata": {
        "colab": {
          "base_uri": "https://localhost:8080/",
          "height": 600
        },
        "id": "7uRiCa5Fy0PX",
        "outputId": "3e72eaa7-bbd6-4bef-de1b-a79656ab3c13"
      },
      "source": [
        "# Create dataframe from the .xlsx file given\n",
        "dataframe = pd.read_excel(\"Sample Data 2021-03-18.xlsx\", header=0)\n",
        "dataframe"
      ],
      "execution_count": null,
      "outputs": [
        {
          "output_type": "execute_result",
          "data": {
            "text/html": [
              "<div>\n",
              "<style scoped>\n",
              "    .dataframe tbody tr th:only-of-type {\n",
              "        vertical-align: middle;\n",
              "    }\n",
              "\n",
              "    .dataframe tbody tr th {\n",
              "        vertical-align: top;\n",
              "    }\n",
              "\n",
              "    .dataframe thead th {\n",
              "        text-align: right;\n",
              "    }\n",
              "</style>\n",
              "<table border=\"1\" class=\"dataframe\">\n",
              "  <thead>\n",
              "    <tr style=\"text-align: right;\">\n",
              "      <th></th>\n",
              "      <th>MoveOrderNumber</th>\n",
              "      <th>FromIntendedUseForLoc</th>\n",
              "      <th>ToIntendedUseForLoc</th>\n",
              "      <th>FromWarehouse</th>\n",
              "      <th>FromLocation</th>\n",
              "      <th>FromRegion</th>\n",
              "      <th>ToWarehouse</th>\n",
              "      <th>TOLocation</th>\n",
              "      <th>ToRegion</th>\n",
              "      <th>LineNumber</th>\n",
              "      <th>LineGPN</th>\n",
              "      <th>LineRequestedQuantity</th>\n",
              "      <th>LineShippedQuantity</th>\n",
              "      <th>FirstShipmentDate</th>\n",
              "      <th>ShipmentDeliveryUTC</th>\n",
              "    </tr>\n",
              "  </thead>\n",
              "  <tbody>\n",
              "    <tr>\n",
              "      <th>0</th>\n",
              "      <td>CMORSC3890830947.1</td>\n",
              "      <td>FIXED ASSET</td>\n",
              "      <td>MRB</td>\n",
              "      <td>FACHCO</td>\n",
              "      <td>FACHCOA</td>\n",
              "      <td>Central EMEA</td>\n",
              "      <td>WHNLAMS</td>\n",
              "      <td>WHNLAMAM</td>\n",
              "      <td>Central EMEA</td>\n",
              "      <td>1</td>\n",
              "      <td>87001081-02</td>\n",
              "      <td>1</td>\n",
              "      <td>1</td>\n",
              "      <td>2016-06-14 07:49:36</td>\n",
              "      <td>2016-06-15 07:32:00</td>\n",
              "    </tr>\n",
              "    <tr>\n",
              "      <th>1</th>\n",
              "      <td>MORSC3785562221</td>\n",
              "      <td>FIXED ASSET</td>\n",
              "      <td>MRB</td>\n",
              "      <td>FAHUBUA</td>\n",
              "      <td>FAHUBUA</td>\n",
              "      <td>Central EMEA</td>\n",
              "      <td>WHNLAMS</td>\n",
              "      <td>WHNLAMAM</td>\n",
              "      <td>Central EMEA</td>\n",
              "      <td>1</td>\n",
              "      <td>87001081-01-R</td>\n",
              "      <td>1</td>\n",
              "      <td>1</td>\n",
              "      <td>2016-08-12 09:57:23</td>\n",
              "      <td>2016-08-15 07:24:00</td>\n",
              "    </tr>\n",
              "    <tr>\n",
              "      <th>2</th>\n",
              "      <td>MORSC8709658631</td>\n",
              "      <td>FIXED ASSET</td>\n",
              "      <td>FIXED ASSET</td>\n",
              "      <td>FAITSEA</td>\n",
              "      <td>FAITSEA</td>\n",
              "      <td>West EMEA</td>\n",
              "      <td>FANLAMA</td>\n",
              "      <td>FANLAMA</td>\n",
              "      <td>Central EMEA</td>\n",
              "      <td>1</td>\n",
              "      <td>57000581-02</td>\n",
              "      <td>1</td>\n",
              "      <td>1</td>\n",
              "      <td>2016-09-14 06:54:40</td>\n",
              "      <td>2016-09-16 07:32:00</td>\n",
              "    </tr>\n",
              "    <tr>\n",
              "      <th>3</th>\n",
              "      <td>MORSC3890862059</td>\n",
              "      <td>FIXED ASSET</td>\n",
              "      <td>MRB</td>\n",
              "      <td>FANLAMA</td>\n",
              "      <td>FANLAMA</td>\n",
              "      <td>Central EMEA</td>\n",
              "      <td>WHNLAMS</td>\n",
              "      <td>WHNLAMAM</td>\n",
              "      <td>Central EMEA</td>\n",
              "      <td>3</td>\n",
              "      <td>87001081-01</td>\n",
              "      <td>1</td>\n",
              "      <td>1</td>\n",
              "      <td>2016-06-14 05:00:24</td>\n",
              "      <td>2016-06-15 07:32:00</td>\n",
              "    </tr>\n",
              "    <tr>\n",
              "      <th>4</th>\n",
              "      <td>MORSC3890961529</td>\n",
              "      <td>FIXED ASSET</td>\n",
              "      <td>MRB</td>\n",
              "      <td>FANLAMA</td>\n",
              "      <td>FANLAMA</td>\n",
              "      <td>Central EMEA</td>\n",
              "      <td>WHNLAMS</td>\n",
              "      <td>WHNLAMAM</td>\n",
              "      <td>Central EMEA</td>\n",
              "      <td>1</td>\n",
              "      <td>87001081-01</td>\n",
              "      <td>1</td>\n",
              "      <td>1</td>\n",
              "      <td>2016-06-24 08:09:30</td>\n",
              "      <td>2016-06-27 08:22:00</td>\n",
              "    </tr>\n",
              "    <tr>\n",
              "      <th>...</th>\n",
              "      <td>...</td>\n",
              "      <td>...</td>\n",
              "      <td>...</td>\n",
              "      <td>...</td>\n",
              "      <td>...</td>\n",
              "      <td>...</td>\n",
              "      <td>...</td>\n",
              "      <td>...</td>\n",
              "      <td>...</td>\n",
              "      <td>...</td>\n",
              "      <td>...</td>\n",
              "      <td>...</td>\n",
              "      <td>...</td>\n",
              "      <td>...</td>\n",
              "      <td>...</td>\n",
              "    </tr>\n",
              "    <tr>\n",
              "      <th>15995</th>\n",
              "      <td>MORSC3785440869</td>\n",
              "      <td>CAPITAL</td>\n",
              "      <td>REPAIRS &amp; MAINT</td>\n",
              "      <td>GOCAMVCBST</td>\n",
              "      <td>GOCAMVCBST</td>\n",
              "      <td>US West</td>\n",
              "      <td>FAUSCACBS</td>\n",
              "      <td>FAUSCACBS</td>\n",
              "      <td>US West</td>\n",
              "      <td>2</td>\n",
              "      <td>07060182</td>\n",
              "      <td>1</td>\n",
              "      <td>1</td>\n",
              "      <td>2016-07-28 14:50:48</td>\n",
              "      <td>2016-08-01 13:15:00</td>\n",
              "    </tr>\n",
              "    <tr>\n",
              "      <th>15996</th>\n",
              "      <td>MORSC8748918259</td>\n",
              "      <td>CAPITAL</td>\n",
              "      <td>CAPITAL</td>\n",
              "      <td>WHCAFRE</td>\n",
              "      <td>WHCAFRCBST</td>\n",
              "      <td>US West</td>\n",
              "      <td>GOCAMVCBST</td>\n",
              "      <td>GOCAMVCBST</td>\n",
              "      <td>US West</td>\n",
              "      <td>1</td>\n",
              "      <td>14000048-01</td>\n",
              "      <td>4</td>\n",
              "      <td>4</td>\n",
              "      <td>2016-12-15 14:07:03</td>\n",
              "      <td>2016-12-13 21:57:00</td>\n",
              "    </tr>\n",
              "    <tr>\n",
              "      <th>15997</th>\n",
              "      <td>MORSC8708998267</td>\n",
              "      <td>MRB</td>\n",
              "      <td>MRB</td>\n",
              "      <td>WHGASKY</td>\n",
              "      <td>WHGASKYENM</td>\n",
              "      <td>US Southeast</td>\n",
              "      <td>CMXPCAMTV</td>\n",
              "      <td>XPMRB</td>\n",
              "      <td>US West</td>\n",
              "      <td>1</td>\n",
              "      <td>07108249-R</td>\n",
              "      <td>1</td>\n",
              "      <td>1</td>\n",
              "      <td>2016-09-08 13:16:27</td>\n",
              "      <td>2016-09-13 17:24:00</td>\n",
              "    </tr>\n",
              "    <tr>\n",
              "      <th>15998</th>\n",
              "      <td>MORSC8710155299</td>\n",
              "      <td>MRB</td>\n",
              "      <td>MRB</td>\n",
              "      <td>WHGASKY</td>\n",
              "      <td>WHGASKYENM</td>\n",
              "      <td>US Southeast</td>\n",
              "      <td>CMXPCAMTV</td>\n",
              "      <td>XPMRB</td>\n",
              "      <td>US West</td>\n",
              "      <td>1</td>\n",
              "      <td>07108249-R</td>\n",
              "      <td>1</td>\n",
              "      <td>1</td>\n",
              "      <td>2016-09-16 11:32:04</td>\n",
              "      <td>2016-09-19 13:54:00</td>\n",
              "    </tr>\n",
              "    <tr>\n",
              "      <th>15999</th>\n",
              "      <td>MORSC8708998267</td>\n",
              "      <td>MRB</td>\n",
              "      <td>MRB</td>\n",
              "      <td>WHGASKY</td>\n",
              "      <td>WHGASKYENM</td>\n",
              "      <td>US Southeast</td>\n",
              "      <td>CMXPCAMTV</td>\n",
              "      <td>XPMRB</td>\n",
              "      <td>US West</td>\n",
              "      <td>3</td>\n",
              "      <td>07060326-R</td>\n",
              "      <td>2</td>\n",
              "      <td>2</td>\n",
              "      <td>2016-09-08 13:16:27</td>\n",
              "      <td>2016-09-13 17:24:00</td>\n",
              "    </tr>\n",
              "  </tbody>\n",
              "</table>\n",
              "<p>16000 rows × 15 columns</p>\n",
              "</div>"
            ],
            "text/plain": [
              "          MoveOrderNumber  ...  ShipmentDeliveryUTC\n",
              "0      CMORSC3890830947.1  ...  2016-06-15 07:32:00\n",
              "1         MORSC3785562221  ...  2016-08-15 07:24:00\n",
              "2         MORSC8709658631  ...  2016-09-16 07:32:00\n",
              "3         MORSC3890862059  ...  2016-06-15 07:32:00\n",
              "4         MORSC3890961529  ...  2016-06-27 08:22:00\n",
              "...                   ...  ...                  ...\n",
              "15995     MORSC3785440869  ...  2016-08-01 13:15:00\n",
              "15996     MORSC8748918259  ...  2016-12-13 21:57:00\n",
              "15997     MORSC8708998267  ...  2016-09-13 17:24:00\n",
              "15998     MORSC8710155299  ...  2016-09-19 13:54:00\n",
              "15999     MORSC8708998267  ...  2016-09-13 17:24:00\n",
              "\n",
              "[16000 rows x 15 columns]"
            ]
          },
          "metadata": {},
          "execution_count": 58
        }
      ]
    },
    {
      "cell_type": "code",
      "metadata": {
        "colab": {
          "base_uri": "https://localhost:8080/"
        },
        "id": "qfbmhG_T0ovt",
        "outputId": "febc48f9-3d73-47f8-fe83-bf8c1df343c8"
      },
      "source": [
        "# Return data type for each column\n",
        "dataframe.dtypes"
      ],
      "execution_count": null,
      "outputs": [
        {
          "output_type": "execute_result",
          "data": {
            "text/plain": [
              "MoveOrderNumber          object\n",
              "FromIntendedUseForLoc    object\n",
              "ToIntendedUseForLoc      object\n",
              "FromWarehouse            object\n",
              "FromLocation             object\n",
              "FromRegion               object\n",
              "ToWarehouse              object\n",
              "TOLocation               object\n",
              "ToRegion                 object\n",
              "LineNumber                int64\n",
              "LineGPN                  object\n",
              "LineRequestedQuantity     int64\n",
              "LineShippedQuantity       int64\n",
              "FirstShipmentDate        object\n",
              "ShipmentDeliveryUTC      object\n",
              "dtype: object"
            ]
          },
          "metadata": {},
          "execution_count": 3
        }
      ]
    },
    {
      "cell_type": "code",
      "metadata": {
        "colab": {
          "base_uri": "https://localhost:8080/"
        },
        "id": "gj87_zpa633o",
        "outputId": "78b0d917-a034-4953-aa01-8cad5538a5df"
      },
      "source": [
        "# Display the number of rows and columns\n",
        "print('\\nShape of dataset :', dataframe.shape)"
      ],
      "execution_count": null,
      "outputs": [
        {
          "output_type": "stream",
          "name": "stdout",
          "text": [
            "\n",
            "Shape of dataset : (16000, 15)\n"
          ]
        }
      ]
    },
    {
      "cell_type": "code",
      "metadata": {
        "colab": {
          "base_uri": "https://localhost:8080/"
        },
        "id": "W1ZvRxJ89UTX",
        "outputId": "5358b0e4-bf28-40e9-cf11-d52a8e076488"
      },
      "source": [
        "# Return a count of columns with missing values (2 in total)\n",
        "dataframe.isnull().any().sum()\n",
        "\n",
        "# \"ToIntendedUseForLoc\" contains 29 null values\n",
        "# \"To Region\" contains 310 null values\n",
        "dataframe.isnull().sum()"
      ],
      "execution_count": null,
      "outputs": [
        {
          "output_type": "execute_result",
          "data": {
            "text/plain": [
              "MoveOrderNumber            0\n",
              "FromIntendedUseForLoc      0\n",
              "ToIntendedUseForLoc       29\n",
              "FromWarehouse              0\n",
              "FromLocation               0\n",
              "FromRegion                 0\n",
              "ToWarehouse                0\n",
              "TOLocation                 0\n",
              "ToRegion                 310\n",
              "LineNumber                 0\n",
              "LineGPN                    0\n",
              "LineRequestedQuantity      0\n",
              "LineShippedQuantity        0\n",
              "FirstShipmentDate          0\n",
              "ShipmentDeliveryUTC        0\n",
              "dtype: int64"
            ]
          },
          "metadata": {},
          "execution_count": 5
        }
      ]
    },
    {
      "cell_type": "code",
      "metadata": {
        "colab": {
          "base_uri": "https://localhost:8080/"
        },
        "id": "ty-G1WB6ARWJ",
        "outputId": "009b811d-87d3-4a60-afb7-349f6fa6cf57"
      },
      "source": [
        "# Return first 20 rows from \"ToIntendedUseForLoc\"\n",
        "dataframe['ToIntendedUseForLoc'].head(21)"
      ],
      "execution_count": null,
      "outputs": [
        {
          "output_type": "execute_result",
          "data": {
            "text/plain": [
              "0             MRB\n",
              "1             MRB\n",
              "2     FIXED ASSET\n",
              "3             MRB\n",
              "4             MRB\n",
              "5             MRB\n",
              "6             MRB\n",
              "7             MRB\n",
              "8       CORPORATE\n",
              "9       CORPORATE\n",
              "10      CORPORATE\n",
              "11        CAPITAL\n",
              "12        CAPITAL\n",
              "13        CAPITAL\n",
              "14        CAPITAL\n",
              "15        CAPITAL\n",
              "16        CAPITAL\n",
              "17        CAPITAL\n",
              "18        CAPITAL\n",
              "19        CAPITAL\n",
              "20        CAPITAL\n",
              "Name: ToIntendedUseForLoc, dtype: object"
            ]
          },
          "metadata": {},
          "execution_count": 6
        }
      ]
    },
    {
      "cell_type": "code",
      "metadata": {
        "colab": {
          "base_uri": "https://localhost:8080/"
        },
        "id": "g9S-0XvkAsLE",
        "outputId": "055f5e85-ab23-437d-e521-88f3c2499076"
      },
      "source": [
        "# Return first 20 rows from \"ToRegion\"\n",
        "dataframe['ToRegion'].head(21)"
      ],
      "execution_count": null,
      "outputs": [
        {
          "output_type": "execute_result",
          "data": {
            "text/plain": [
              "0     Central EMEA\n",
              "1     Central EMEA\n",
              "2     Central EMEA\n",
              "3     Central EMEA\n",
              "4     Central EMEA\n",
              "5     Central EMEA\n",
              "6     Central EMEA\n",
              "7     Central EMEA\n",
              "8     Central EMEA\n",
              "9     Central EMEA\n",
              "10    Central EMEA\n",
              "11    Central EMEA\n",
              "12    Central EMEA\n",
              "13    Central EMEA\n",
              "14    Central EMEA\n",
              "15    Central EMEA\n",
              "16    Central EMEA\n",
              "17    Central EMEA\n",
              "18    Central EMEA\n",
              "19    Central EMEA\n",
              "20    Central EMEA\n",
              "Name: ToRegion, dtype: object"
            ]
          },
          "metadata": {},
          "execution_count": 7
        }
      ]
    },
    {
      "cell_type": "code",
      "metadata": {
        "colab": {
          "base_uri": "https://localhost:8080/",
          "height": 583
        },
        "id": "9UWvMlyuBTrA",
        "outputId": "bcc354f9-9c56-4d7c-de38-0db6a6a941dc"
      },
      "source": [
        "# Create a dataframe that stores all rows with missing values\n",
        "# Use .any() function to return \"True\" counts from every row matching null\n",
        "# Filter with Boolean indexing using .isnull()\n",
        "null_data = dataframe[dataframe.isnull().values.any(axis=1)]\n",
        "null_data"
      ],
      "execution_count": null,
      "outputs": [
        {
          "output_type": "execute_result",
          "data": {
            "text/html": [
              "<div>\n",
              "<style scoped>\n",
              "    .dataframe tbody tr th:only-of-type {\n",
              "        vertical-align: middle;\n",
              "    }\n",
              "\n",
              "    .dataframe tbody tr th {\n",
              "        vertical-align: top;\n",
              "    }\n",
              "\n",
              "    .dataframe thead th {\n",
              "        text-align: right;\n",
              "    }\n",
              "</style>\n",
              "<table border=\"1\" class=\"dataframe\">\n",
              "  <thead>\n",
              "    <tr style=\"text-align: right;\">\n",
              "      <th></th>\n",
              "      <th>MoveOrderNumber</th>\n",
              "      <th>FromIntendedUseForLoc</th>\n",
              "      <th>ToIntendedUseForLoc</th>\n",
              "      <th>FromWarehouse</th>\n",
              "      <th>FromLocation</th>\n",
              "      <th>FromRegion</th>\n",
              "      <th>ToWarehouse</th>\n",
              "      <th>TOLocation</th>\n",
              "      <th>ToRegion</th>\n",
              "      <th>LineNumber</th>\n",
              "      <th>LineGPN</th>\n",
              "      <th>LineRequestedQuantity</th>\n",
              "      <th>LineShippedQuantity</th>\n",
              "      <th>FirstShipmentDate</th>\n",
              "      <th>ShipmentDeliveryUTC</th>\n",
              "    </tr>\n",
              "  </thead>\n",
              "  <tbody>\n",
              "    <tr>\n",
              "      <th>2415</th>\n",
              "      <td>MORSC8706819247</td>\n",
              "      <td>CAPITAL</td>\n",
              "      <td>NaN</td>\n",
              "      <td>WHCAFR1</td>\n",
              "      <td>WHCAFR1F</td>\n",
              "      <td>US West</td>\n",
              "      <td>AUS123</td>\n",
              "      <td>PAUS123F</td>\n",
              "      <td>US Central</td>\n",
              "      <td>1</td>\n",
              "      <td>07088202</td>\n",
              "      <td>1</td>\n",
              "      <td>1</td>\n",
              "      <td>2016-08-24 07:41:44</td>\n",
              "      <td>2016-08-25 15:29:00</td>\n",
              "    </tr>\n",
              "    <tr>\n",
              "      <th>2416</th>\n",
              "      <td>MORSC3890874143</td>\n",
              "      <td>CAPITAL</td>\n",
              "      <td>NaN</td>\n",
              "      <td>WHCAFR1</td>\n",
              "      <td>WHCAFR1F</td>\n",
              "      <td>US West</td>\n",
              "      <td>CLT103</td>\n",
              "      <td>PCLT103F</td>\n",
              "      <td>NaN</td>\n",
              "      <td>1</td>\n",
              "      <td>07120833</td>\n",
              "      <td>1</td>\n",
              "      <td>1</td>\n",
              "      <td>2016-06-14 12:56:47</td>\n",
              "      <td>2016-06-16 13:52:00</td>\n",
              "    </tr>\n",
              "    <tr>\n",
              "      <th>2417</th>\n",
              "      <td>MORSC8707612388</td>\n",
              "      <td>CAPITAL</td>\n",
              "      <td>NaN</td>\n",
              "      <td>WHCAFR1</td>\n",
              "      <td>WHCAFR1F</td>\n",
              "      <td>US West</td>\n",
              "      <td>LAX101</td>\n",
              "      <td>PLAX101F</td>\n",
              "      <td>NaN</td>\n",
              "      <td>1</td>\n",
              "      <td>07023777</td>\n",
              "      <td>4</td>\n",
              "      <td>4</td>\n",
              "      <td>2016-08-29 14:34:06</td>\n",
              "      <td>2016-08-30 20:35:00</td>\n",
              "    </tr>\n",
              "    <tr>\n",
              "      <th>4553</th>\n",
              "      <td>MORSC1778073394</td>\n",
              "      <td>CAPITAL</td>\n",
              "      <td>NaN</td>\n",
              "      <td>WHGASDE</td>\n",
              "      <td>WHGASDEF</td>\n",
              "      <td>US Southeast</td>\n",
              "      <td>CLT103</td>\n",
              "      <td>PCLT103F</td>\n",
              "      <td>NaN</td>\n",
              "      <td>2</td>\n",
              "      <td>07120331</td>\n",
              "      <td>1000</td>\n",
              "      <td>1000</td>\n",
              "      <td>2016-10-14 13:10:54</td>\n",
              "      <td>2016-10-17 17:53:00</td>\n",
              "    </tr>\n",
              "    <tr>\n",
              "      <th>7270</th>\n",
              "      <td>MORSC8737461144</td>\n",
              "      <td>CAPITAL</td>\n",
              "      <td>NaN</td>\n",
              "      <td>WHMOKCA</td>\n",
              "      <td>WHMOKCAF</td>\n",
              "      <td>US Central</td>\n",
              "      <td>LGA101</td>\n",
              "      <td>PLGA101F</td>\n",
              "      <td>US Northeast</td>\n",
              "      <td>1</td>\n",
              "      <td>1002630-01</td>\n",
              "      <td>1</td>\n",
              "      <td>1</td>\n",
              "      <td>2016-11-18 16:02:42</td>\n",
              "      <td>2016-11-18 15:08:00</td>\n",
              "    </tr>\n",
              "    <tr>\n",
              "      <th>...</th>\n",
              "      <td>...</td>\n",
              "      <td>...</td>\n",
              "      <td>...</td>\n",
              "      <td>...</td>\n",
              "      <td>...</td>\n",
              "      <td>...</td>\n",
              "      <td>...</td>\n",
              "      <td>...</td>\n",
              "      <td>...</td>\n",
              "      <td>...</td>\n",
              "      <td>...</td>\n",
              "      <td>...</td>\n",
              "      <td>...</td>\n",
              "      <td>...</td>\n",
              "      <td>...</td>\n",
              "    </tr>\n",
              "    <tr>\n",
              "      <th>15273</th>\n",
              "      <td>MORSC3890873196</td>\n",
              "      <td>CAPITAL</td>\n",
              "      <td>CAPITAL</td>\n",
              "      <td>WHNLAMS</td>\n",
              "      <td>WHNLAMSPX</td>\n",
              "      <td>Central EMEA</td>\n",
              "      <td>ARN09</td>\n",
              "      <td>PSEARN09G</td>\n",
              "      <td>NaN</td>\n",
              "      <td>75</td>\n",
              "      <td>07003764</td>\n",
              "      <td>8</td>\n",
              "      <td>8</td>\n",
              "      <td>2016-06-23 08:17:31</td>\n",
              "      <td>2016-06-27 14:00:00</td>\n",
              "    </tr>\n",
              "    <tr>\n",
              "      <th>15274</th>\n",
              "      <td>MORSC8708344234</td>\n",
              "      <td>CAPITAL</td>\n",
              "      <td>CAPITAL</td>\n",
              "      <td>WHNLAMS</td>\n",
              "      <td>WHNLAMSPX</td>\n",
              "      <td>Central EMEA</td>\n",
              "      <td>ARN09</td>\n",
              "      <td>PSEARN09G</td>\n",
              "      <td>NaN</td>\n",
              "      <td>34</td>\n",
              "      <td>12000149-03</td>\n",
              "      <td>4</td>\n",
              "      <td>4</td>\n",
              "      <td>2016-09-05 08:17:56</td>\n",
              "      <td>2016-09-08 10:15:00</td>\n",
              "    </tr>\n",
              "    <tr>\n",
              "      <th>15275</th>\n",
              "      <td>MORSC3890873196</td>\n",
              "      <td>CAPITAL</td>\n",
              "      <td>CAPITAL</td>\n",
              "      <td>WHNLAMS</td>\n",
              "      <td>WHNLAMSPX</td>\n",
              "      <td>Central EMEA</td>\n",
              "      <td>ARN09</td>\n",
              "      <td>PSEARN09G</td>\n",
              "      <td>NaN</td>\n",
              "      <td>71</td>\n",
              "      <td>07048407</td>\n",
              "      <td>1</td>\n",
              "      <td>1</td>\n",
              "      <td>2016-06-23 08:17:31</td>\n",
              "      <td>2016-06-27 14:00:00</td>\n",
              "    </tr>\n",
              "    <tr>\n",
              "      <th>15276</th>\n",
              "      <td>MORSC3890873196</td>\n",
              "      <td>CAPITAL</td>\n",
              "      <td>CAPITAL</td>\n",
              "      <td>WHNLAMS</td>\n",
              "      <td>WHNLAMSPX</td>\n",
              "      <td>Central EMEA</td>\n",
              "      <td>ARN09</td>\n",
              "      <td>PSEARN09G</td>\n",
              "      <td>NaN</td>\n",
              "      <td>41</td>\n",
              "      <td>07014320</td>\n",
              "      <td>6</td>\n",
              "      <td>6</td>\n",
              "      <td>2016-06-23 08:17:31</td>\n",
              "      <td>2016-06-27 14:00:00</td>\n",
              "    </tr>\n",
              "    <tr>\n",
              "      <th>15277</th>\n",
              "      <td>MORSC3890873196</td>\n",
              "      <td>CAPITAL</td>\n",
              "      <td>CAPITAL</td>\n",
              "      <td>WHNLAMS</td>\n",
              "      <td>WHNLAMSPX</td>\n",
              "      <td>Central EMEA</td>\n",
              "      <td>ARN09</td>\n",
              "      <td>PSEARN09G</td>\n",
              "      <td>NaN</td>\n",
              "      <td>10</td>\n",
              "      <td>42000548-05</td>\n",
              "      <td>1</td>\n",
              "      <td>1</td>\n",
              "      <td>2016-06-23 08:17:31</td>\n",
              "      <td>2016-06-27 14:00:00</td>\n",
              "    </tr>\n",
              "  </tbody>\n",
              "</table>\n",
              "<p>320 rows × 15 columns</p>\n",
              "</div>"
            ],
            "text/plain": [
              "       MoveOrderNumber  ...  ShipmentDeliveryUTC\n",
              "2415   MORSC8706819247  ...  2016-08-25 15:29:00\n",
              "2416   MORSC3890874143  ...  2016-06-16 13:52:00\n",
              "2417   MORSC8707612388  ...  2016-08-30 20:35:00\n",
              "4553   MORSC1778073394  ...  2016-10-17 17:53:00\n",
              "7270   MORSC8737461144  ...  2016-11-18 15:08:00\n",
              "...                ...  ...                  ...\n",
              "15273  MORSC3890873196  ...  2016-06-27 14:00:00\n",
              "15274  MORSC8708344234  ...  2016-09-08 10:15:00\n",
              "15275  MORSC3890873196  ...  2016-06-27 14:00:00\n",
              "15276  MORSC3890873196  ...  2016-06-27 14:00:00\n",
              "15277  MORSC3890873196  ...  2016-06-27 14:00:00\n",
              "\n",
              "[320 rows x 15 columns]"
            ]
          },
          "metadata": {},
          "execution_count": 11
        }
      ]
    },
    {
      "cell_type": "code",
      "metadata": {
        "colab": {
          "base_uri": "https://localhost:8080/"
        },
        "id": "p7qty_XiEC8D",
        "outputId": "2f9830b9-3607-4b8d-8e10-db57a47ec85c"
      },
      "source": [
        "# Returns count of missing values of “ToIntendedUseForLoc” column by group (“ToRegion”)\n",
        "null_data.groupby(['ToRegion'])['ToIntendedUseForLoc'].apply(lambda x: x.isnull().sum())\n"
      ],
      "execution_count": null,
      "outputs": [
        {
          "output_type": "execute_result",
          "data": {
            "text/plain": [
              "ToRegion\n",
              "US Central      8\n",
              "US Northeast    2\n",
              "Name: ToIntendedUseForLoc, dtype: int64"
            ]
          },
          "metadata": {},
          "execution_count": 19
        }
      ]
    },
    {
      "cell_type": "code",
      "metadata": {
        "colab": {
          "base_uri": "https://localhost:8080/"
        },
        "id": "zvPLLGjRVIz5",
        "outputId": "dec5e33b-b9ea-4aac-a2fc-73168db66e0b"
      },
      "source": [
        "# Returns the unique values from the column \"ToIntendedUseForLoc\" \n",
        "null_data.ToIntendedUseForLoc.unique()"
      ],
      "execution_count": null,
      "outputs": [
        {
          "output_type": "execute_result",
          "data": {
            "text/plain": [
              "array([nan, 'CAPITAL'], dtype=object)"
            ]
          },
          "metadata": {},
          "execution_count": 26
        }
      ]
    },
    {
      "cell_type": "code",
      "metadata": {
        "colab": {
          "base_uri": "https://localhost:8080/"
        },
        "id": "mbrqeuAYjata",
        "outputId": "8866caa8-a43b-4ce8-8569-abcb76a4aba3"
      },
      "source": [
        "# Return a table with counts of unique inputs for every column\n",
        "# Logic: Getting more context to identify related variables\n",
        "uniqueValues = dataframe.nunique()\n",
        "uniqueValues"
      ],
      "execution_count": null,
      "outputs": [
        {
          "output_type": "execute_result",
          "data": {
            "text/plain": [
              "MoveOrderNumber          9630\n",
              "FromIntendedUseForLoc       8\n",
              "ToIntendedUseForLoc        11\n",
              "FromWarehouse              66\n",
              "FromLocation              185\n",
              "FromRegion                  7\n",
              "ToWarehouse               445\n",
              "TOLocation                625\n",
              "ToRegion                   10\n",
              "LineNumber                115\n",
              "LineGPN                  3972\n",
              "LineRequestedQuantity     432\n",
              "LineShippedQuantity       432\n",
              "FirstShipmentDate        9035\n",
              "ShipmentDeliveryUTC      5018\n",
              "dtype: int64"
            ]
          },
          "metadata": {},
          "execution_count": 28
        }
      ]
    },
    {
      "cell_type": "code",
      "metadata": {
        "colab": {
          "base_uri": "https://localhost:8080/"
        },
        "id": "GJ_KDFQx-CD2",
        "outputId": "a540f987-5c42-4753-d7a7-a3c766e581e3"
      },
      "source": [
        "# Return unique values for features with the LEAST number of possible categories\n",
        "fromRegion_Categories = dataframe['FromRegion'].unique()\n",
        "fromRegionCategories"
      ],
      "execution_count": null,
      "outputs": [
        {
          "output_type": "execute_result",
          "data": {
            "text/plain": [
              "array(['Central EMEA', 'West EMEA', 'US Southeast', 'US Central',\n",
              "       'US West', 'East EMEA', 'PRC'], dtype=object)"
            ]
          },
          "metadata": {},
          "execution_count": 33
        }
      ]
    },
    {
      "cell_type": "code",
      "metadata": {
        "colab": {
          "base_uri": "https://localhost:8080/"
        },
        "id": "kKCurNi2_eA0",
        "outputId": "d2c59915-0022-4c25-b03a-28f7b7242f58"
      },
      "source": [
        "fromIntendedUseForLoc_Categories = dataframe['FromIntendedUseForLoc'].unique()\n",
        "fromIntendedUseForLoc_Categories"
      ],
      "execution_count": null,
      "outputs": [
        {
          "output_type": "execute_result",
          "data": {
            "text/plain": [
              "array(['FIXED ASSET', 'CORPORATE', 'CAPITAL', 'R&D', 'REPAIRS & MAINT',\n",
              "       'MRB', 'OPERATIONS', 'SALE'], dtype=object)"
            ]
          },
          "metadata": {},
          "execution_count": 34
        }
      ]
    },
    {
      "cell_type": "code",
      "metadata": {
        "colab": {
          "base_uri": "https://localhost:8080/"
        },
        "id": "uoq8l6M7_Kxw",
        "outputId": "ce26a668-42fb-419a-8db8-75d195e68a15"
      },
      "source": [
        "toRegion_Categories = dataframe['ToRegion'].unique()\n",
        "toRegion_Categories"
      ],
      "execution_count": null,
      "outputs": [
        {
          "output_type": "execute_result",
          "data": {
            "text/plain": [
              "array(['Central EMEA', 'West EMEA', 'East EMEA', 'US Central', 'US West',\n",
              "       'US Southeast', 'US SouthEast', 'US Northeast', 'US NorthEast',\n",
              "       'PRC', nan], dtype=object)"
            ]
          },
          "metadata": {},
          "execution_count": 36
        }
      ]
    },
    {
      "cell_type": "code",
      "metadata": {
        "colab": {
          "base_uri": "https://localhost:8080/"
        },
        "id": "u1YjBebcKZeK",
        "outputId": "386c5069-7af9-4158-817f-a1408291d99f"
      },
      "source": [
        "# Use for loop to return all categories from each column\n",
        "for col in dataframe:\n",
        "    print(dataframe[col].unique())"
      ],
      "execution_count": null,
      "outputs": [
        {
          "output_type": "stream",
          "name": "stdout",
          "text": [
            "['CMORSC3890830947.1' 'MORSC3785562221' 'MORSC8709658631' ...\n",
            " 'MORSC8748918259' 'MORSC8708998267' 'MORSC8710155299']\n",
            "['FIXED ASSET' 'CORPORATE' 'CAPITAL' 'R&D' 'REPAIRS & MAINT' 'MRB'\n",
            " 'OPERATIONS' 'SALE']\n",
            "['MRB' 'FIXED ASSET' 'CORPORATE' 'CAPITAL' 'UNIVERSAL' 'REPAIRS & MAINT'\n",
            " 'R&D' 'RMA' nan 'TESTING' 'ONETIME' 'OPERATIONS']\n",
            "['FACHCO' 'FAHUBUA' 'FAITSEA' 'FANLAMA' 'FAUKLPA' 'WHBEGH' 'WHGALS'\n",
            " 'WHIACB' 'WHIASL' 'WHNCLN' 'WHNLAMS' 'WHOKPC' 'CMCLCAO' 'FAASVICB'\n",
            " 'FACHZUCB' 'FACNONCB' 'FADEBECB' 'FADNCOCB' 'FAFRPACB' 'FAGBLNCB'\n",
            " 'FAITMICB' 'FAJOAMCB' 'FANLAMCB' 'FAPOWSCB' 'FASPMACB' 'FATKIS'\n",
            " 'FAUSCACB' 'GOGBLNAE' 'GOGBLNCY' 'WHCAFR1' 'WHCAFRE' 'WHCAFRE-WMS'\n",
            " 'WHCODE1' 'WHDERA1' 'WHFIHEL' 'WHGAOAK' 'WHGASDE' 'WHGASKY' 'WHGASKY-WMS'\n",
            " 'WHIEDU3' 'WHMOKCA' 'WHNCCH1' 'WHNCRDU' 'WHNLDGL' 'WHNLEEM' 'WHNLGR1'\n",
            " 'WHNLGR2' 'WHNLGRQ' 'WHNLWES' 'WHORDAL' 'WHSCCHS' 'WHTNBNA' 'WHTXAUA'\n",
            " 'WHVAST2' 'CMQTCNSH' 'DCNLEEM' 'FACNONCBS' 'FAUSCACBS' 'GOCAMTVCB'\n",
            " 'RTQTCNSH' 'WHCAMIR' 'WHILCRL' 'WHINPLF' 'WHNLTIL' 'WHUTREB' 'GOCAMVCBST']\n",
            "['FACHCOA' 'FAHUBUA' 'FAITSEA' 'FANLAMA' 'FAUKLPA' 'WHBEGHO' 'WHBEGHP'\n",
            " 'WHGALSO' 'WHGALSP' 'WHGALSZ' 'WHIACBO' 'WHIACBP' 'WHIASLE' 'WHIASLP'\n",
            " 'WHNCLNP' 'WHNLAMA' 'WHOKPCO' 'WHOKPCP' 'WHOKPCQ' 'CMCLCAOF' 'FAASVICB'\n",
            " 'FACHZUCB' 'FACNONCB' 'FADEBECB' 'FADNCOCB' 'FAFRPACB' 'FAGBLNCB'\n",
            " 'FAITMICB' 'FAJOAMCB' 'FANLAMCB' 'FAPOWSCB' 'FASPMACB' 'FATKISCB'\n",
            " 'FAUSCACB' 'GOGBLNAE' 'GOGBLNCY' 'WHBEGHAF' 'WHBEGHCF' 'WHBEGHCY'\n",
            " 'WHBEGHDC' 'WHBEGHPD' 'WHBEGHPM' 'WHBEGHSC' 'WHCAFR1F' 'WHCAFRAE'\n",
            " 'WHCAFRCB' 'WHCAFREA' 'WHCAFREE' 'WHCAFREF' 'WHCAFREI' 'WHCAFREN'\n",
            " 'WHCAFREO' 'WHCAFREP' 'WHCAFREQ' 'WHCAFREW' 'WHCAFREZ' 'WHCODE1N'\n",
            " 'WHDERA1P' 'WHFIHELO' 'WHFIHELP' 'WHFIHELW' 'WHGALSDC' 'WHGALSPX'\n",
            " 'WHGAOAKP' 'WHGASDEF' 'WHGASKYN' 'WHGASKYO' 'WHGASKYP' 'WHGASKYW'\n",
            " 'WHGASKYZ' 'WHIACBDC' 'WHIACBPM' 'WHIACBSC' 'WHIASLDC' 'WHIASLPM'\n",
            " 'WHIASLSC' 'WHIEDU3O' 'WHIEDU3P' 'WHIEDU3Q' 'WHIEDU3W' 'WHIEDU3Z'\n",
            " 'WHMOKCAF' 'WHNCCH1F' 'WHNCLNCF' 'WHNCLNDC' 'WHNCLNPM' 'WHNCLNSC'\n",
            " 'WHNCRDUF' 'WHNLAMAM' 'WHNLAMAS' 'WHNLAMCB' 'WHNLAMSN' 'WHNLAMSO'\n",
            " 'WHNLAMSP' 'WHNLAMSW' 'WHNLAMSZ' 'WHNLDGLP' 'WHNLEEMO' 'WHNLEEMP'\n",
            " 'WHNLGR1P' 'WHNLGR2O' 'WHNLGR2P' 'WHNLGR2Z' 'WHNLGRQZ' 'WHNLWESP'\n",
            " 'WHOKPCDC' 'WHOKPCPM' 'WHOKPCSC' 'WHORDALO' 'WHORDALP' 'WHORDALQ'\n",
            " 'WHSCCHSP' 'WHTNBNAF' 'WHTXAUAF' 'WHVAST2O' 'WHVAST2P' 'CMQTCNSHP'\n",
            " 'DCNLEEMPD' 'FACNONCBS' 'FAUSCACBS' 'GOCAMTVCB' 'RTQTCNSHP' 'WHCAFRCBM'\n",
            " 'WHCAFRCBS' 'WHCAFREAS' 'WHCAFREPM' 'WHCAMIR2A' 'WHCAMIR3A' 'WHFIHELDC'\n",
            " 'WHFIHELPD' 'WHFIHELPM' 'WHFIHELSC' 'WHGASKYDC' 'WHGASKYEN' 'WHGASKYNM'\n",
            " 'WHGASKYPM' 'WHGASKYPX' 'WHGASKYRK' 'WHGASKYSC' 'WHIEDU3DC' 'WHIEDU3PD'\n",
            " 'WHIEDU3PM' 'WHIEDU3SC' 'WHILCRL3A' 'WHILCRLAM' 'WHINPLF3A' 'WHMOKCAFB'\n",
            " 'WHMOKCAFM' 'WHNCRDUFB' 'WHNLAMCBS' 'WHNLAMCBT' 'WHNLAMSAF' 'WHNLAMSCF'\n",
            " 'WHNLAMSDC' 'WHNLAMSNM' 'WHNLAMSPM' 'WHNLAMSPX' 'WHNLAMSRK' 'WHNLAMSSC'\n",
            " 'WHNLAMSZT' 'WHNLEEMPD' 'WHNLEEMPM' 'WHNLEEMSC' 'WHNLGR1DC' 'WHNLGR1PM'\n",
            " 'WHNLGR2DC' 'WHNLGR2PM' 'WHNLGR2SC' 'WHNLTIL3A' 'WHORDALDC' 'WHORDALPD'\n",
            " 'WHORDALPM' 'WHORDALSC' 'WHSCCHSDC' 'WHSCCHSPM' 'WHSCCHSSC' 'WHTXAUAFB'\n",
            " 'WHTXAUAFM' 'WHTXAUAFQ' 'WHUTREBFM' 'WHUTREBFQ' 'WHUTREBRK' 'GOCAMVCBST'\n",
            " 'WHCAFRCBST' 'WHGASKYENM']\n",
            "['Central EMEA' 'West EMEA' 'US Southeast' 'US Central' 'US West'\n",
            " 'East EMEA' 'PRC']\n",
            "['WHNLAMS' 'FANLAMA' 'WHFIHEL' 'WHGBSL1' 'WHIEDU3' 'WHNLEEM' 'WHNLGR1'\n",
            " 'WHNLGR2' 'WHNLWES' 'SOF02' 'PAR10' 'LHR35' 'MIL04' 'AMS15' 'ARN09'\n",
            " 'WHIACB' 'WHCAFRE' 'WHORDAL' 'WHSCCHS' 'WHNCLN' 'WHOKPC' 'MIA05'\n",
            " 'WHVASTG' 'LAX02' 'DEN02' 'JAX02' 'ORD30' 'LGA07' 'PDX06' 'DFW06' 'DFW08'\n",
            " 'SLC01' 'SEA03' 'WHGASKY-WMS' 'WHVAST2' 'DCIACB' 'WHBEGH' 'WHGALS'\n",
            " 'WHGAOAK' 'WHGASKY' 'RTQTCNSH' 'RTUGCAFR' 'GUSSVL07' 'GUSSVL11'\n",
            " 'PPCAMTV1600' 'PPCAMTV1667' 'WHIASL' 'FACHCO' 'FAITSEA' 'LAX28'\n",
            " 'GUSMTV06FM' 'FANLAMCB' 'FAGBLNCB' 'FADEBECB' 'FAITMICB' 'FABUSOCB'\n",
            " 'FADNCOCB' 'FAFRPACB' 'FAPOWSCB' 'FASPMACB' 'FAASVICB' 'GOGBLNCY'\n",
            " 'WHFIHE2' 'SPECTRALOGRMANA' 'FACASF' 'AUS123' 'CLT103' 'LAX101' 'WHGASDE'\n",
            " 'WHMOKCA' 'WHNCCH1' 'WHNCRDU' 'FAUKLPA' 'CMNEWUT' 'FACNONCB' 'FAUSCACB'\n",
            " 'CMFOLOR' 'CMICHOR' 'FACNONCBS' 'FAUSCACBS' 'GOCAMTVCB' 'LGA15' 'CMOPTM'\n",
            " 'FACHZUA' 'CMAKSOL' 'CMQTCNSH' 'PZEN001' 'WHTXAUA' 'TUL15' 'GGBLON15'\n",
            " 'GUSATW02' 'GUSIRV03' 'GUSKIR04' 'GUSNYC06' 'GUSPIT01' 'GUSRES02'\n",
            " 'GUSSFO01' 'GUSSSF02' 'GUSSUR01' 'GUSVEN01' 'CMTEWI1' 'AVPA1' 'GUSDU01'\n",
            " 'GCHZRH03' 'GUSARB05' 'GUSBOT01' 'GUSCAM07' 'GUSCBF01' 'GUSCHA02'\n",
            " 'GUSDAL06' 'GUSLAX03' 'GUSNYC03' 'GUSNYC04' 'GUSPLE01' 'GUSRES03'\n",
            " 'GUSSAT01' 'GUSSBO03' 'GUSSDI03' 'GUSSEA02' 'GUSSEA03' 'GUSSEA05'\n",
            " 'GUSSFO04' 'GUSWAS03' 'LGA35' 'ORD36' 'IAD21' 'CMARSNC' 'DCGALS'\n",
            " 'DCORDAL' 'GUSKAN03' 'WHTZCOP' 'LAX16' 'LAX17' 'LAX29' 'PEK06' 'SHA08'\n",
            " 'DEN01' 'DEN03' 'MIA04' 'MIA06' 'MIA07' 'ATL01' 'ATL22' 'ATL26' 'HKG08'\n",
            " 'ORD12' 'ORD31' 'ORD35' 'ORD38' 'LGA34' 'LGA26' 'CLE02' 'OTH02' 'DFW25'\n",
            " 'IAD26' 'IAD30' 'SEA09' 'SEA15' 'DEN09' 'DCDEFR1' 'LAX04' 'GUSMTV22'\n",
            " 'WHNLDGL' 'FANCRA' 'FATNNA' 'FATXAU' 'NOPGA03' 'NOPNC01' 'NOPNC02'\n",
            " 'WHCAFR1' 'WHTNBNA' 'WHCASJ1' 'WHILCH1' 'WHORPO1' 'CBF01' 'CBF02' 'CBF14'\n",
            " 'CBF16' 'CBF20' 'MRN01' 'MRN02' 'TUL01' 'TUL13' 'TUL17' 'DLS01' 'DLS03'\n",
            " 'CHS02' 'CHS03' 'INFINERA_RMA_US' 'GUSALA02' 'CMULIL1' 'SFO07' 'GCHZRH09'\n",
            " 'GUSMTV54' 'NUQ04' 'SFO03' 'SJC07' 'SQL01' 'SQL07' 'PEK11' 'PEK12'\n",
            " 'BOS06' 'BLM03' 'BLM05' 'LGA10' 'LPR01' 'CHS18' 'DFW03' 'IAD24' 'IAD31'\n",
            " 'IAD32' 'IAD33' 'PPCAMTVCL4' 'PPCAMTV1230' 'RTIVCNS' 'RTKNCAFV'\n",
            " 'HITACHI_RMA_NA' 'SEAGATE_RMA_NA' 'LGCHEMICALRMAMI' 'TYCO_RMA_NA'\n",
            " 'ELTEK_RMA_NA' 'ELTEK_RMA_TX' 'ORACLE_RMA_NA' 'INVENTEC_RMA_CN' 'FRA15'\n",
            " 'FRA16' 'AMS16' 'GDEBER02' 'GDEFRA02' 'GDEMUC07' 'GDKAAR01' 'GFRPAR04'\n",
            " 'GGBLON02' 'GGBLON09' 'GGBLON10' 'GGBLON14' 'GGRATH02' 'GHRZAR02'\n",
            " 'GHUBUD03' 'GPLWAW01' 'GPTLIS01' 'GROBUH01' 'GSESTO04' 'FRA07' 'LHR47'\n",
            " 'ANR01' 'GRQ09' 'LEY03' 'RTM01' 'UTC01' 'CCGNTN1' 'CCMTUT1' 'CCNXGA1'\n",
            " 'CCOTCA1' 'NITTX01' 'NITUT01' 'NITUT02' 'NLETN01' 'NOPGA02' 'LGA101'\n",
            " 'SFO105' 'PSFO122' 'SEGAAT1' 'SENCCH1' 'SENCMO1' 'SETXAU1' 'SEUTPR1'\n",
            " 'none' 'GOCAMVCY' 'FINISAR_RMA_NA' 'CUBEOPTICSRMADE' 'FACHZUCB'\n",
            " 'FAIEDBCB' 'WHDESC1' 'CIENA_RMA_HU' 'DCNLAM1' 'GDKCPH01' 'GIEDUB02'\n",
            " 'GIEDUB06' 'GIEDUB13' 'GUSMTV66' 'WHGAFB1' 'PAR21' 'PRG03' 'MUC03'\n",
            " 'PAR03' 'WAW02' 'LIS01' 'LHR22' 'GNLAMS01' 'CMARSNL' 'WHNLGRQ' 'ANR03'\n",
            " 'LGG01' 'SOF01' 'BER01' 'BER03' 'BER07' 'BWE01' 'BWE02' 'DUS01' 'DUS04'\n",
            " 'ESS02' 'EUM01' 'GUT01' 'HAJ02' 'HAJ03' 'HAM02' 'HAM04' 'HAM11' 'KEL01'\n",
            " 'LBC01' 'MUC11' 'REB02' 'RGL01' 'SZW04' 'TXL01' 'TXL02' 'WBG01' 'AAR01'\n",
            " 'CNL01' 'MRW01' 'RKE01' 'SKS01' 'VEJ01' 'TLL01' 'MAD06' 'MAD08' 'HEM03'\n",
            " 'HYV01' 'HYV03' 'MHQ02' 'TKU01' 'TKU02' 'TKU03' 'TKU04' 'TMP02' 'UTI01'\n",
            " 'UTI05' 'DNR03' 'HZB06' 'LAI01' 'MRS02' 'MRS03' 'PAR15' 'PAR22' 'BLK01'\n",
            " 'CEG01' 'CEG02' 'EMA01' 'LGW01' 'LHR25' 'LHR26' 'LTN01' 'LYM01' 'MAN03'\n",
            " 'MSE02' 'NQY01' 'ORM01' 'PLH01' 'SOU01' 'STN01' 'VLY01' 'YEO01' 'DUB09'\n",
            " 'DUB20' 'AMS17' 'GLZ01' 'GRQ01' 'GRQ17' 'ARN05' 'ARN10' 'ARN11' 'BMA01'\n",
            " 'GOT02' 'HMA01' 'NRK01' 'DCNLEEM' 'ALLEGHENYRMAPA' 'WHDERA1' 'DCORDL1'\n",
            " 'CCAENC2' 'CCDYKS1' 'NITCA01' 'ATL103' 'ATL122' 'CBF101' 'DFW101'\n",
            " 'MCI101' 'MCI102' 'RDU103' 'SFO104' 'SJC101' 'SLC101' 'FACHZUAS' 'WHCASF'\n",
            " 'WHILCRL' 'WHEXPHK' 'WHIEDUB' 'AVAGO_RMA_TX' 'CIENA_RMA_TN'\n",
            " 'ARISTA_RMA_CA' 'CISCO_RMA_TX2' 'FUJITSU_RMA_CA' 'GRAYBAR_RMA_GA'\n",
            " 'JUNIPER_RMA_TX' 'AFL_RMA_SC' 'KAIAM_RMA_CA' 'OPLINK_RMA_NA'\n",
            " 'FINISAR_RMA_NA2' 'INNOLIGHT_RMA_CN' 'INNOLIGHTRMANA' 'SYD09' 'GRU06'\n",
            " 'HKG07' 'HKG12' 'NRT12' 'YYZ06' 'RMITRCANW' 'RMSMAUSHU' 'RMCNEUSMA'\n",
            " 'WHCAMIR' 'RTIQTXM' 'CCBLUMO2' 'GOGBLNAE' 'CIENA_RMA_NL' 'ALCATEL_RMA_DE'\n",
            " 'ALCATEL_RMA_FR' 'ANIXTER_RMA_BE' 'CORIANT_RMA_EU' 'QLOGIC_RMA_CA'\n",
            " 'SEAGATERMAEUNL' 'FJR01' 'BUD02' 'RMATLGANO' 'RMITRCZBU' 'RMITRCZKL'\n",
            " 'RMPCGNLVE' 'WHEXPUK' 'RTUGCA2' 'SEAGATE_RMA_CA' 'ELTEK_RMA_IL'\n",
            " 'CLEARFIELDRMAUS' 'GOCAMVCBST' 'CMXPCAMTV']\n",
            "['WHNLAMAM' 'FANLAMA' 'WHNLAMSO' 'WHFIHELP' 'WHGBSL1P' 'WHIEDU3P'\n",
            " 'WHIEDU3W' 'WHNLAMSP' 'WHNLEEMP' 'WHNLGR1P' 'WHNLGR2P' 'WHNLWESP'\n",
            " 'PPBGSOF02' 'PPFRPAR10' 'PPGBLHR35' 'PPITMIL04' 'PPNLAMS15' 'PPSEARN09'\n",
            " 'WHNLAMSDC' 'WHNLAMSPX' 'WHNLAMSRK' 'WHIACBO' 'WHCAFREO' 'WHORDALO'\n",
            " 'WHSCCHSO' 'WHIACBP' 'WHNCLNP' 'WHOKPCP' 'WHCAFREE' 'WHCAFREP' 'WHORDALP'\n",
            " 'WHSCCHSP' 'PPFLMIA05' 'WHOKPCZ' 'WHCAFREZ' 'WHVASTGZ' 'PPCALAX02'\n",
            " 'PPCODEN02' 'PPFLJAX02' 'PPILORD30' 'PPNYLGA07' 'PPORPDX06' 'PPTXDFW06'\n",
            " 'PPTXDFW08' 'PPUTSLC01' 'PPWASEA03' 'WHCAFREW' 'WHGASKYO' 'WHVAST2O'\n",
            " 'DCIACBP' 'WHBEGHP' 'WHGALSP' 'WHGAOAKP' 'WHGASKYP' 'WHOKPCDC' 'WHVAST2P'\n",
            " 'RTQTCNSHP' 'RTUGCAFRP' 'WHCAFREPM' 'WHGASKYRK' 'WHSCCHSDC' 'GUSSVL07'\n",
            " 'GUSSVL11' 'WHCAFREQ' 'GUSSVL07E' 'GUSSVL11E' 'WHGAOAKRK' 'PPCAMTV1600'\n",
            " 'PPCAMTV1667' 'WHIASLP' 'WHIASLDC' 'WHORDALDC' 'FACHCOA' 'FAITSEA'\n",
            " 'WHBEGHDC' 'PPCALAX28' 'WHFIHELDC' 'WHGASKYQ' 'GUSMTV06FM' 'FANLAMCB'\n",
            " 'WHNLAMCBT' 'WHCAFRCBST' 'FAGBLNCB' 'FADEBECB' 'FAITMICB' 'WHNLAMCB'\n",
            " 'FABUSOCB' 'FADNCOCB' 'FAFRPACB' 'FAPOWSCB' 'FASPMACB' 'WHNLAMCBS'\n",
            " 'WHNLAMCBSC' 'FAASVICB' 'WHNLAMSAE' 'WHNLAMSCY' 'WHNLAMSAF' 'GOGBLNCY'\n",
            " 'WHFIHE2DC' 'WHIEDU3DC' 'WHNLAMSPD' 'WHNLWESPD' 'WHNLAMSPM'\n",
            " 'SPECTRALOGIC_RMA_NA' 'WHNLAMSSC' 'FACASFFO' 'PAUS123F' 'PCLT103F'\n",
            " 'PLAX101F' 'WHGASDEF' 'WHMOKCAF' 'WHNCCH1F' 'WHNCRDUF' 'FAUKLPA'\n",
            " 'CMNEWUT' 'FACNONCB' 'FAUSCACB' 'CMFOLORCB' 'CMICHORCB' 'FACNONCBS'\n",
            " 'FAUSCACBS' 'GOCAMTVCB' 'PPNYLGA15' 'CMOPTMA' 'FACHZUA' 'WHNLAMA'\n",
            " 'CMAKSOLA' 'WHNLAMAS' 'CMQTCNSHE' 'WHIACBF' 'PZEN001I' 'WHTXAUAF'\n",
            " 'WHGASKYN' 'PPOKTUL15' 'WHBEGHO' 'WHFIHELO' 'WHNLEEMO' 'GGBLON15O'\n",
            " 'GUSATW02O' 'GUSIRV03O' 'GUSKIR04O' 'GUSNYC06O' 'GUSPIT01O' 'GUSRES02O'\n",
            " 'GUSSFO01O' 'GUSSSF02O' 'GUSSUR01O' 'GUSVEN01O' 'WHIASLE' 'CMTEWI1E'\n",
            " 'CMQTCNSHP' 'RTAVPA1P' 'WHGALSO' 'WHNCLNW' 'WHOKPCW' 'GUSDU01W'\n",
            " 'WHGASKYW' 'WHNLAMSW' 'WHVAST2W' 'GCHZRH03W' 'GUSARB05W' 'GUSBOT01W'\n",
            " 'GUSCAM07W' 'GUSCBF01W' 'GUSCHA02W' 'GUSDAL06W' 'GUSKIR04W' 'GUSLAX03W'\n",
            " 'GUSNYC03W' 'GUSNYC04W' 'GUSNYC06W' 'GUSPIT01W' 'GUSPLE01W' 'GUSRES02W'\n",
            " 'GUSRES03W' 'GUSSAT01W' 'GUSSBO03W' 'GUSSDI03W' 'GUSSEA02W' 'GUSSEA03W'\n",
            " 'GUSSEA05W' 'GUSSFO01W' 'GUSSFO04W' 'GUSSUR01W' 'GUSVEN01W' 'GUSWAS03W'\n",
            " 'PNYLGA35N' 'PPILORD36' 'PPVAIAD21' 'WHNLAMSWM' 'CMARSNC' 'DCGALSZ'\n",
            " 'WHGALSZ' 'WHIACBZ' 'WHIASLZ' 'WHNCLNZ' 'DCORDALZ' 'GGBLON15' 'GUSKAN03'\n",
            " 'WHGASKYZ' 'WHNLAMSZ' 'WHORDALZ' 'WHSCCHSZ' 'WHTXCOPZ' 'WHVAST2Z'\n",
            " 'PCALAX02Z' 'PCALAX16Z' 'PCALAX17Z' 'PCALAX28Z' 'PCALAX29Z' 'PCNPEK06Z'\n",
            " 'PCNSHA08Z' 'PCODEN01Z' 'PCODEN02Z' 'PCODEN03Z' 'PFLJAX02Z' 'PFLMIA04Z'\n",
            " 'PFLMIA06Z' 'PFLMIA07Z' 'PGAATL01Z' 'PGAATL22Z' 'PGAATL26Z' 'PHKHKG08Z'\n",
            " 'PILORD12Z' 'PILORD30Z' 'PILORD31Z' 'PILORD35Z' 'PILORD36Z' 'PILORD38Z'\n",
            " 'PNJLGA34Z' 'PNYLGA07Z' 'PNYLGA26Z' 'POHCLE02Z' 'POROTH02Z' 'PORPDX06Z'\n",
            " 'PTXDFW06Z' 'PTXDFW25Z' 'PUTSLC01Z' 'PVAIAD26Z' 'PVAIAD30Z' 'PWASEA09Z'\n",
            " 'PWASEA15Z' 'PPCODEN09' 'DCDEFR1G' 'WHNCLNDC' 'PPCALAX04' 'GUSMTV22'\n",
            " 'WHIACBDC' 'WHNLDGLP' 'WHCAFREPL' 'FANCRAFD' 'FATNNAFD' 'FATNNAFO'\n",
            " 'FATXAUFO' 'NOPGA03F' 'NOPNC01F' 'NOPNC02F' 'WHCAFR1F' 'WHTNBNAF'\n",
            " 'WHNCCH1FB' 'WHIASLN' 'WHCASJ1N' 'WHILCH1N' 'WHNLAMSN' 'WHORPO1N'\n",
            " 'PCALAX04N' 'PCALAX17N' 'PCODEN02N' 'PIACBF01N' 'PIACBF02N' 'PIACBF14N'\n",
            " 'PIACBF16N' 'PIACBF20N' 'PILORD12N' 'PILORD31N' 'PILORD38N' 'PNCMRN01N'\n",
            " 'PNCMRN02N' 'PNJLGA34N' 'POKTUL01N' 'POKTUL13N' 'POKTUL15N' 'POKTUL17N'\n",
            " 'PORDLS01N' 'PORDLS03N' 'PPCODEN03' 'PSCCHS02N' 'PSCCHS03N' 'PTXDFW06N'\n",
            " 'PVAIAD30N' 'PWASEA15N' 'INFINERA_RMA_US' 'WHOKPCO' 'GUSALA02O'\n",
            " 'GUSCAM07O' 'CMAVPA1P' 'CMULIL1PP' 'PPCASFO07' 'GCHZRH09W' 'CMARSNCM'\n",
            " 'GUSMTV54' 'PCANUQ04Z' 'PCASFO03Z' 'PCASJC07Z' 'PCASQL01Z' 'PCASQL07Z'\n",
            " 'PCNPEK11Z' 'PCNPEK12Z' 'PMABOS06Z' 'PNJBLM03Z' 'PNJBLM05Z' 'PNYLGA10Z'\n",
            " 'PNYLGA15Z' 'POHLPR01Z' 'PSCCHS18Z' 'PTXDFW03Z' 'PVAIAD24Z' 'PVAIAD31Z'\n",
            " 'PVAIAD32Z' 'PVAIAD33Z' 'PPCAMTVCL4' 'PPCAMTV1230' 'WHGASKYDC'\n",
            " 'WHNLGR2DC' 'RTIVCNSP' 'WHGALSPM' 'RTKNCAFVP' 'WHGASKYPM'\n",
            " 'HITACHI_RMA_NA' 'SEAGATE_RMA_NA' 'LGCHEMICAL_RMA_MI' 'WHGALSSC'\n",
            " 'WHGASKYSC' 'WHGAOAKPM' 'TYCO_RMA_NA' 'ELTEK_RMA_NA' 'ELTEK_RMA_TX'\n",
            " 'ORACLE_RMA_NA' 'INVENTEC_RMA_CN' 'GCHZRH09O' 'PPDEFRA15' 'PPDEFRA16'\n",
            " 'PPNLAMS16' 'WHNLAMSQ' 'WHBEGHW' 'WHNLGR1W' 'WHNLGR2W' 'GDEBER02W'\n",
            " 'GDEFRA02W' 'GDEMUC07W' 'GDKAAR01W' 'GFRPAR04W' 'GGBLON02W' 'GGBLON09W'\n",
            " 'GGBLON10W' 'GGBLON14W' 'GGBLON15W' 'GGRATH02W' 'GHRZAR02W' 'GHUBUD03W'\n",
            " 'GPLWAW01W' 'GPTLIS01W' 'GROBUH01W' 'GSESTO04W' 'PPDEFRA07' 'PPGBLHR47'\n",
            " 'WHBEGHZ' 'PBEANR01Z' 'PNLAMS15Z' 'PNLGRQ09Z' 'PNLLEY03Z' 'PNLRTM01Z'\n",
            " 'PNLUTC01Z' 'CCGNTN1F' 'CCMTUT1F' 'CCNXGA1F' 'CCOTCA1F' 'FANCRAFO'\n",
            " 'NITTX01F' 'NITUT01F' 'NITUT02F' 'NLETN01F' 'NOPGA02F' 'PLGA101F'\n",
            " 'PSFO105F' 'PSFO122F' 'SEGAAT1F' 'SENCCH1F' 'SENCMO1F' 'SETXAU1F'\n",
            " 'SEUTPR1F' 'OTNCCPEFA' 'WHGASDEFB' 'GOCAMVCY' 'WHNLGR1DC'\n",
            " 'FINISAR_RMA_NA' 'CUBEOPTICS_RMA_DE' 'WHCAFREAM' 'FACHZUCB' 'FAIEDBCB'\n",
            " 'WHDESC1N' 'CIENA_RMA_HU' 'DCNLAM1O' 'WHGBSL1O' 'WHNLGR1O' 'GDEMUC07O'\n",
            " 'GDKCPH01O' 'GIEDUB02O' 'GIEDUB06O' 'GIEDUB13W' 'GUSMTV66' 'WHGAFB1P'\n",
            " 'PFRPAR21G' 'PPCZPRG03' 'PPDEMUC03' 'PPFRPAR03' 'PPFRPAR21' 'PPPLWAW02'\n",
            " 'PPPTLIS01' 'PPUKLHR22' 'DCNLAM1W' 'GNLAMS01W' 'CMARSNL' 'CMARSNLM'\n",
            " 'WHFIHELZ' 'WHGBSL1Z' 'WHIEDU3Z' 'WHNLGR1Z' 'WHNLGR2Z' 'WHNLGRQZ'\n",
            " 'PBEANR03Z' 'PBELGG01Z' 'PBGSOF01Z' 'PBGSOF02Z' 'PCZPRG03Z' 'PDEBER01Z'\n",
            " 'PDEBER03Z' 'PDEBER07Z' 'PDEBWE01Z' 'PDEBWE02Z' 'PDEDUS01Z' 'PDEDUS04Z'\n",
            " 'PDEESS02Z' 'PDEEUM01Z' 'PDEFRA15Z' 'PDEFRA16Z' 'PDEGUT01Z' 'PDEHAJ02Z'\n",
            " 'PDEHAJ03Z' 'PDEHAM02Z' 'PDEHAM04Z' 'PDEHAM11Z' 'PDEKEL01Z' 'PDELBC01Z'\n",
            " 'PDEMUC03Z' 'PDEMUC11Z' 'PDEREB02Z' 'PDERGL01Z' 'PDESZW04Z' 'PDETXL01Z'\n",
            " 'PDETXL02Z' 'PDEWBG01Z' 'PDKAAR01Z' 'PDKCNL01Z' 'PDKMRW01Z' 'PDKRKE01Z'\n",
            " 'PDKSKS01Z' 'PDKVEJ01Z' 'PEETLL01Z' 'PESMAD06Z' 'PESMAD08Z' 'PFIHEM03Z'\n",
            " 'PFIHYV01Z' 'PFIHYV03Z' 'PFIMHQ02Z' 'PFITKU01Z' 'PFITKU02Z' 'PFITKU03Z'\n",
            " 'PFITKU04Z' 'PFITMP02Z' 'PFIUTI01Z' 'PFIUTI05Z' 'PFRDNR03Z' 'PFRHZB06Z'\n",
            " 'PFRLAI01Z' 'PFRMRS02Z' 'PFRMRS03Z' 'PFRPAR03Z' 'PFRPAR15Z' 'PFRPAR21Z'\n",
            " 'PFRPAR22Z' 'PGBBLK01Z' 'PGBCEG01Z' 'PGBCEG02Z' 'PGBEMA01Z' 'PGBLGW01Z'\n",
            " 'PGBLHR25Z' 'PGBLHR26Z' 'PGBLHR35Z' 'PGBLTN01Z' 'PGBLYM01Z' 'PGBMAN03Z'\n",
            " 'PGBMSE02Z' 'PGBNQY01Z' 'PGBORM01Z' 'PGBPLH01Z' 'PGBSOU01Z' 'PGBSTN01Z'\n",
            " 'PGBVLY01Z' 'PGBYEO01Z' 'PIEDUB09Z' 'PIEDUB20Z' 'PITMIL04Z' 'PNLAMS16Z'\n",
            " 'PNLAMS17Z' 'PNLGLZ01Z' 'PNLGRQ01Z' 'PNLGRQ17Z' 'PPLWAW02Z' 'PSEARN05Z'\n",
            " 'PSEARN09Z' 'PSEARN10Z' 'PSEARN11Z' 'PSEBMA01Z' 'PSEGOT02Z' 'PSEHMA01Z'\n",
            " 'PSENRK01Z' 'WHIEDU3O' 'DCNLEEMOT' 'ALLEGHENY_RMA_PA' 'WHDERA1P'\n",
            " 'PPESMAD06' 'DCORDALP' 'DCORDL1P' 'WHGAOAKQ' 'WHIASLQ' 'WHGALSRK'\n",
            " 'CCAENC2F' 'CCDYKS1F' 'NITCA01F' 'PATL103F' 'PATL122F' 'PCBF101F'\n",
            " 'PDFW101F' 'PMCI101F' 'PMCI102F' 'PRDU103F' 'PSFO104F' 'PSJC101F'\n",
            " 'PSLC101F' 'WHMOKCAFB' 'WHTNBNAFB' 'PNCRDU103F' 'WHCAFRCBM' 'FACHZUAS'\n",
            " 'WHCASFO2A' 'WHILCRL2A' 'WHEXPHKA' 'WHILCRLA' 'WHIEDUBEN' 'AVAGO_RMA_TX'\n",
            " 'CIENA_RMA_TN' 'ARISTA_RMA_CA' 'CISCO_RMA_TX2' 'FUJITSU_RMA_CA'\n",
            " 'GRAYBAR_RMA_GA' 'JUNIPER_RMA_TX' 'AFL_RMA_SC' 'KAIAM_RMA_CA'\n",
            " 'OPLINK_RMA_NA' 'FINISAR_RMA_NA2' 'INNOLIGHT_RMA_CN' 'INNOLIGHT_RMA_NA'\n",
            " 'PAUSYD09G' 'PBRGRU06G' 'PHKHKG07G' 'PHKHKG12G' 'PJPNRT12G' 'PONYYZ06G'\n",
            " 'RMITRCANW' 'RMSMAUSHU' 'RMCNEUSMA' 'WHCAMIRA' 'RTIQTXMA' 'WHCAMIR2A'\n",
            " 'CCBLUMO2F' 'WHNCRDUFB' 'WHTXAUAFB' 'GOGBLNAE' 'CIENA_RMA_NL'\n",
            " 'ALCATEL_RMA_DE' 'ALCATEL_RMA_FR' 'ANIXTER_RMA_BE' 'CORIANT_RMA_EU'\n",
            " 'QLOGIC_RMA_CA' 'SEAGATE_RMA_EU_NL' 'PAEFJR01G' 'PDEFRA15G' 'PDEFRA16G'\n",
            " 'PESMAD06G' 'PFRPAR10G' 'PGBLHR25G' 'PGBLHR35G' 'PITMIL04G' 'PNLAMS15G'\n",
            " 'PNLAMS16G' 'PPHUBUD02' 'PPLWAW02G' 'PSEARN09G' 'RMATLGANO' 'RMITRCZBU'\n",
            " 'RMITRCZKL' 'RMPCGNLVE' 'WHNLWESSC' 'WHEXPUK2A' 'WHEXPUK3A' 'WHGAFB1PD'\n",
            " 'WHGASKYPD' 'RTUGCA2P' 'SEAGATE_RMA_CA' 'ELTEK_RMA_IL' 'WHMOKCAFQ'\n",
            " 'CLEARFIELD_RMA_US' 'GOCAMVCBST' 'XPMRB']\n",
            "['Central EMEA' 'West EMEA' 'East EMEA' 'US Central' 'US West'\n",
            " 'US Southeast' 'US SouthEast' 'US Northeast' 'US NorthEast' 'PRC' nan]\n",
            "[  1   3   2   6   5   4   7  10   9   8  17  29  13  25  19  31  15  11\n",
            "  16  21  12  18  23  20  34  14  24  45  54  48  36  37  27  30  28  26\n",
            "  38  53  33  58  51  59  22  40  42  43  35  32  47  56  44  39  41  64\n",
            "  71  75  46  52  60  50  49  61  63  62  55  65  74  80  81  67  86  84\n",
            "  66  73  68  82  78  76  99  93  96  91  97  90  94  79  92  83  89  57\n",
            "  69 145 127 130 147 153  88 144 120 123  70  72 152 114 121 105 117 149\n",
            " 154 116 103 111  85 118  77]\n",
            "['87001081-02' '87001081-01-R' '57000581-02' ... '07060182' '07108249-R'\n",
            " '07060326-R']\n",
            "[     1      2     12      3      4   6200    140     20     50      8\n",
            "      5     80     60      6    100     10    160     17     40      9\n",
            "     26     14     18     11    150    270     13      7     22    200\n",
            "     24    107     33     31    590     23     79     44     29    120\n",
            "     85    126     15    650    163    399     61    310     46   1600\n",
            "     30     66     32     19     42    330  10598    102     72     83\n",
            "     16     56    192    288    420     58     65    576   1050    539\n",
            "    241    210    840    440     64   5000    400     25     34     62\n",
            "     74     49    280     36   1260    800    600     53     21     28\n",
            "   3000     51    569     43     45    783    233     89     47     35\n",
            "    108    376    550     38     86     57    700    500   4500     52\n",
            "     68   1417     87    143     81     69    132    302    130     27\n",
            "     76     39    135     91   3200   3100   2300   3562   1000     97\n",
            "    173    300     84   1080    391     94    128     48    480     70\n",
            "    224    205    927   1300   1200    110    180     88     54     75\n",
            "    158    208    176    148    112    118    144    257   4880   1180\n",
            "   2360   2800    360   2380    188   5040    666   3080   1220   3434\n",
            "   1100    240    220    584   1355    980    175    559     71     92\n",
            "   5630    521    190   7095     78    146    290    231     63     90\n",
            "    250     96    228    105    318    114    640    370    460   6215\n",
            "   4959   2212    348    170   1105    594    230     93    490    315\n",
            "   9000   2200    301    832   2715    660   7360   1575    350  15360\n",
            "   1800    136   1500   6165    123    260    402   3300    172    314\n",
            "    750     59     82   1252    141  18000  15000  33000    145    207\n",
            "    246    124    900    161    540    434    822    741   9600    225\n",
            "  13424  10944    155    340    320    104    168    156    181    115\n",
            "    316   2155   3360    380    810    960    324    106     67    366\n",
            "    234   1650   6700    182   9324    461    836     77    266    186\n",
            "    196     37  15652     41    644   4000    470    127   3040    702\n",
            "    274    264    432   8860    308     73    426  11200  14000    901\n",
            "    216    384     55    268    165    962    111  17420  13879    780\n",
            "   4045    488    792    450    232    405    560    528    282    122\n",
            "    237   1060    116    614    377    242    129    312    796    276\n",
            "    667    328  10080    117    166    204   5120   2559   2520    295\n",
            "    194    138    195   1364    611    236    427    466    520   2006\n",
            "    753    133    387   2000    838   2208    411  23926  11640   9828\n",
            "  19200 144000  74088    860   8988  11000  20400   3070    608  42110\n",
            "  48888  10336  21450  26000  54960  10988  21141  62880  11218   2896\n",
            "   3750   1070  11282 172800  11760   5490  10416   1040    162  15480\n",
            "  14399   7879  57300   4634  25320   4800   5012  54800  20290    414\n",
            "   1113    309    253    416    525     99    184    680    712   1655\n",
            "   4227   1404   1730    510    707    651  10000    152    189  19000\n",
            "   4600   8645    668  25105   2603   4151    782   2491    374     95\n",
            "   1870    355]\n",
            "[     1      2     12      3      4   6200    140     20     50      8\n",
            "      5     80     60      6    100     10    160     17     40      9\n",
            "     26     14     18     11    150    270     13      7     22    200\n",
            "     24    107     33     31    590     23     79     44     29    120\n",
            "     85    126     15    650    163    399     61    310     46   1600\n",
            "     30     66     32     19     42    330  10598    102     72     83\n",
            "     16     56    192    288    420     58     65    576   1050    539\n",
            "    241    210    840    440     64   5000    400     25     34     62\n",
            "     74     49    280     36   1260    800    600     53     21     28\n",
            "   3000     51    569     43     45    783    233     89     47     35\n",
            "    108    376    550     38     86     57    700    500   4500     52\n",
            "     68   1417     87    143     81     69    132    302    130     27\n",
            "     76     39    135     91   3200   3100   2300   3562   1000     97\n",
            "    173    300     84   1080    391     94    128     48    480     70\n",
            "    224    205    927   1300   1200    110    180     88     54     75\n",
            "    158    208    176    148    112    118    144    257   4880   1180\n",
            "   2360   2800    360   2380    188   5040    666   3080   1220   3434\n",
            "   1100    240    220    584   1355    980    175    559     71     92\n",
            "   5630    521    190   7095     78    146    290    231     63     90\n",
            "    250     96    228    105    318    114    640    370    460   6215\n",
            "   4959   2212    348    170   1105    594    230     93    490    315\n",
            "   9000   2200    301    832   2715    660   7360   1575    350  15360\n",
            "   1800    136   1500   6165    123    260    402   3300    172    314\n",
            "    750     59     82   1252    141  18000  15000  33000    145    207\n",
            "    246    124    900    161    540    434    822    741   9600    225\n",
            "  13424  10944    155    340    320    104    168    156    181    115\n",
            "    316   2155   3360    380    810    960    324    106     67    366\n",
            "    234   1650   6700    182   9324    461    836     77    266    186\n",
            "    196     37  15652     41    644   4000    470    127   3040    702\n",
            "    274    264    432   8860    308     73    426  11200  14000    901\n",
            "    216    384     55    268    165    962    111  17420  13879    780\n",
            "   4045    488    792    450    232    405    560    528    282    122\n",
            "    237   1060    116    614    377    242    129    312    796    276\n",
            "    667    328  10080    117    166    204   5120   2559   2520    295\n",
            "    194    138    195   1364    611    236    427    466    520   2006\n",
            "    753    133    387   2000    838   2208    411  18429   6100   9709\n",
            "  14114  74600  42704    860   5600   2639  20334   3070    608  42110\n",
            "  23280  10278  21450  15699  54960  10988  21141  30720  11218   2896\n",
            "   3750   1070  11282 143900  11760   5490   9468   1040    162  15480\n",
            "  14399   7879  57300   4634  25320   4800   5012  54800  20290    414\n",
            "   1113    309    253    416    525     99    184    680    712   1655\n",
            "   4227   1404   1730    510    707    651  10000    152    189  19000\n",
            "   4600   8645    668  25105   2603   4151    782   2491    374     95\n",
            "   1870    355]\n",
            "['2016-06-14 07:49:36' '2016-08-12 09:57:23' '2016-09-14 06:54:40' ...\n",
            " '2016-12-15 14:07:03' '2016-09-08 13:16:27' '2016-09-16 11:32:04']\n",
            "['2016-06-15 07:32:00' '2016-08-15 07:24:00' '2016-09-16 07:32:00' ...\n",
            " '2016-12-13 21:57:00' '2016-09-13 17:24:00' '2016-09-19 13:54:00']\n"
          ]
        }
      ]
    },
    {
      "cell_type": "code",
      "metadata": {
        "colab": {
          "base_uri": "https://localhost:8080/"
        },
        "id": "TfnkXPY3L9vX",
        "outputId": "a1baa4f1-e33d-42e9-93f6-b2f860ef18d1"
      },
      "source": [
        "# Return all of the possible entries for \"FromWarehouse\"\n",
        "# 66 Unique Elements in From Warehouse column\n",
        "# dataframe['FromWarehouse'].unique().tolist()\n",
        "dataframe['FromWarehouse'].unique()\n"
      ],
      "execution_count": null,
      "outputs": [
        {
          "output_type": "execute_result",
          "data": {
            "text/plain": [
              "array(['FACHCO', 'FAHUBUA', 'FAITSEA', 'FANLAMA', 'FAUKLPA', 'WHBEGH',\n",
              "       'WHGALS', 'WHIACB', 'WHIASL', 'WHNCLN', 'WHNLAMS', 'WHOKPC',\n",
              "       'CMCLCAO', 'FAASVICB', 'FACHZUCB', 'FACNONCB', 'FADEBECB',\n",
              "       'FADNCOCB', 'FAFRPACB', 'FAGBLNCB', 'FAITMICB', 'FAJOAMCB',\n",
              "       'FANLAMCB', 'FAPOWSCB', 'FASPMACB', 'FATKIS', 'FAUSCACB',\n",
              "       'GOGBLNAE', 'GOGBLNCY', 'WHCAFR1', 'WHCAFRE', 'WHCAFRE-WMS',\n",
              "       'WHCODE1', 'WHDERA1', 'WHFIHEL', 'WHGAOAK', 'WHGASDE', 'WHGASKY',\n",
              "       'WHGASKY-WMS', 'WHIEDU3', 'WHMOKCA', 'WHNCCH1', 'WHNCRDU',\n",
              "       'WHNLDGL', 'WHNLEEM', 'WHNLGR1', 'WHNLGR2', 'WHNLGRQ', 'WHNLWES',\n",
              "       'WHORDAL', 'WHSCCHS', 'WHTNBNA', 'WHTXAUA', 'WHVAST2', 'CMQTCNSH',\n",
              "       'DCNLEEM', 'FACNONCBS', 'FAUSCACBS', 'GOCAMTVCB', 'RTQTCNSH',\n",
              "       'WHCAMIR', 'WHILCRL', 'WHINPLF', 'WHNLTIL', 'WHUTREB',\n",
              "       'GOCAMVCBST'], dtype=object)"
            ]
          },
          "metadata": {},
          "execution_count": 41
        }
      ]
    },
    {
      "cell_type": "code",
      "metadata": {
        "colab": {
          "base_uri": "https://localhost:8080/"
        },
        "id": "_hGrTQGJNGT3",
        "outputId": "329d9847-76f2-4948-cb13-303535a23d92"
      },
      "source": [
        "# Return FIRST instance of every entry in \"From Warehouse\" by dropping duplicates\n",
        "dataframe.FromWarehouse.drop_duplicates()"
      ],
      "execution_count": null,
      "outputs": [
        {
          "output_type": "execute_result",
          "data": {
            "text/plain": [
              "0            FACHCO\n",
              "1           FAHUBUA\n",
              "2           FAITSEA\n",
              "3           FANLAMA\n",
              "5           FAUKLPA\n",
              "            ...    \n",
              "14760       WHILCRL\n",
              "14766       WHINPLF\n",
              "15644       WHNLTIL\n",
              "15990       WHUTREB\n",
              "15994    GOCAMVCBST\n",
              "Name: FromWarehouse, Length: 66, dtype: object"
            ]
          },
          "metadata": {},
          "execution_count": 47
        }
      ]
    },
    {
      "cell_type": "code",
      "metadata": {
        "colab": {
          "base_uri": "https://localhost:8080/"
        },
        "id": "LTVN7O4POLkm",
        "outputId": "c1665f62-4366-43cc-efdb-47350de54720"
      },
      "source": [
        "# Return count for all entries in every possible category within \"From Warehouse\"\n",
        "dataframe.FromWarehouse.value_counts()"
      ],
      "execution_count": null,
      "outputs": [
        {
          "output_type": "execute_result",
          "data": {
            "text/plain": [
              "WHNLAMS      3696\n",
              "WHGASKY      2110\n",
              "WHNLWES      1171\n",
              "WHCAFRE       961\n",
              "WHFIHEL       849\n",
              "             ... \n",
              "FACNONCBS       1\n",
              "RTQTCNSH        1\n",
              "WHNCCH1         1\n",
              "FAFRPACB        1\n",
              "FAITSEA         1\n",
              "Name: FromWarehouse, Length: 66, dtype: int64"
            ]
          },
          "metadata": {},
          "execution_count": 67
        }
      ]
    },
    {
      "cell_type": "code",
      "metadata": {
        "colab": {
          "base_uri": "https://localhost:8080/",
          "height": 212
        },
        "id": "amgdjpT4ZTO1",
        "outputId": "f2070aff-8390-43aa-e3f9-ff53afa2e8e1"
      },
      "source": [
        "# Return a descriptive summary about the dataframe (frequency of top variables*)\n",
        "dataframe.describe(include = object)"
      ],
      "execution_count": null,
      "outputs": [
        {
          "output_type": "execute_result",
          "data": {
            "text/html": [
              "<div>\n",
              "<style scoped>\n",
              "    .dataframe tbody tr th:only-of-type {\n",
              "        vertical-align: middle;\n",
              "    }\n",
              "\n",
              "    .dataframe tbody tr th {\n",
              "        vertical-align: top;\n",
              "    }\n",
              "\n",
              "    .dataframe thead th {\n",
              "        text-align: right;\n",
              "    }\n",
              "</style>\n",
              "<table border=\"1\" class=\"dataframe\">\n",
              "  <thead>\n",
              "    <tr style=\"text-align: right;\">\n",
              "      <th></th>\n",
              "      <th>MoveOrderNumber</th>\n",
              "      <th>FromIntendedUseForLoc</th>\n",
              "      <th>ToIntendedUseForLoc</th>\n",
              "      <th>FromWarehouse</th>\n",
              "      <th>FromLocation</th>\n",
              "      <th>FromRegion</th>\n",
              "      <th>ToWarehouse</th>\n",
              "      <th>TOLocation</th>\n",
              "      <th>ToRegion</th>\n",
              "      <th>LineGPN</th>\n",
              "      <th>FirstShipmentDate</th>\n",
              "      <th>ShipmentDeliveryUTC</th>\n",
              "    </tr>\n",
              "  </thead>\n",
              "  <tbody>\n",
              "    <tr>\n",
              "      <th>count</th>\n",
              "      <td>16000</td>\n",
              "      <td>16000</td>\n",
              "      <td>15971</td>\n",
              "      <td>16000</td>\n",
              "      <td>16000</td>\n",
              "      <td>16000</td>\n",
              "      <td>16000</td>\n",
              "      <td>16000</td>\n",
              "      <td>15690</td>\n",
              "      <td>16000</td>\n",
              "      <td>16000</td>\n",
              "      <td>16000</td>\n",
              "    </tr>\n",
              "    <tr>\n",
              "      <th>unique</th>\n",
              "      <td>9630</td>\n",
              "      <td>8</td>\n",
              "      <td>11</td>\n",
              "      <td>66</td>\n",
              "      <td>185</td>\n",
              "      <td>7</td>\n",
              "      <td>445</td>\n",
              "      <td>625</td>\n",
              "      <td>10</td>\n",
              "      <td>3972</td>\n",
              "      <td>9035</td>\n",
              "      <td>5018</td>\n",
              "    </tr>\n",
              "    <tr>\n",
              "      <th>top</th>\n",
              "      <td>MORSC8712300606</td>\n",
              "      <td>CAPITAL</td>\n",
              "      <td>CAPITAL</td>\n",
              "      <td>WHNLAMS</td>\n",
              "      <td>WHNLAMSP</td>\n",
              "      <td>Central EMEA</td>\n",
              "      <td>WHNLAMS</td>\n",
              "      <td>WHNLAMSP</td>\n",
              "      <td>Central EMEA</td>\n",
              "      <td>07079485</td>\n",
              "      <td>2016-11-24 09:03:47</td>\n",
              "      <td>2016-11-28 14:00:00</td>\n",
              "    </tr>\n",
              "    <tr>\n",
              "      <th>freq</th>\n",
              "      <td>42</td>\n",
              "      <td>13071</td>\n",
              "      <td>12598</td>\n",
              "      <td>3696</td>\n",
              "      <td>1506</td>\n",
              "      <td>7847</td>\n",
              "      <td>2365</td>\n",
              "      <td>1518</td>\n",
              "      <td>7429</td>\n",
              "      <td>169</td>\n",
              "      <td>58</td>\n",
              "      <td>88</td>\n",
              "    </tr>\n",
              "  </tbody>\n",
              "</table>\n",
              "</div>"
            ],
            "text/plain": [
              "        MoveOrderNumber  ...  ShipmentDeliveryUTC\n",
              "count             16000  ...                16000\n",
              "unique             9630  ...                 5018\n",
              "top     MORSC8712300606  ...  2016-11-28 14:00:00\n",
              "freq                 42  ...                   88\n",
              "\n",
              "[4 rows x 12 columns]"
            ]
          },
          "metadata": {},
          "execution_count": 69
        }
      ]
    },
    {
      "cell_type": "code",
      "metadata": {
        "colab": {
          "base_uri": "https://localhost:8080/",
          "height": 212
        },
        "id": "PGDqDWUCaDvK",
        "outputId": "e9149f8c-b3a5-4869-887c-cf24a2a9fd02"
      },
      "source": [
        "# View the descriptive summary of all rows missing data\n",
        "null_data.describe(include = object)"
      ],
      "execution_count": null,
      "outputs": [
        {
          "output_type": "execute_result",
          "data": {
            "text/html": [
              "<div>\n",
              "<style scoped>\n",
              "    .dataframe tbody tr th:only-of-type {\n",
              "        vertical-align: middle;\n",
              "    }\n",
              "\n",
              "    .dataframe tbody tr th {\n",
              "        vertical-align: top;\n",
              "    }\n",
              "\n",
              "    .dataframe thead th {\n",
              "        text-align: right;\n",
              "    }\n",
              "</style>\n",
              "<table border=\"1\" class=\"dataframe\">\n",
              "  <thead>\n",
              "    <tr style=\"text-align: right;\">\n",
              "      <th></th>\n",
              "      <th>MoveOrderNumber</th>\n",
              "      <th>FromIntendedUseForLoc</th>\n",
              "      <th>ToIntendedUseForLoc</th>\n",
              "      <th>FromWarehouse</th>\n",
              "      <th>FromLocation</th>\n",
              "      <th>FromRegion</th>\n",
              "      <th>ToWarehouse</th>\n",
              "      <th>TOLocation</th>\n",
              "      <th>ToRegion</th>\n",
              "      <th>LineGPN</th>\n",
              "      <th>FirstShipmentDate</th>\n",
              "      <th>ShipmentDeliveryUTC</th>\n",
              "    </tr>\n",
              "  </thead>\n",
              "  <tbody>\n",
              "    <tr>\n",
              "      <th>count</th>\n",
              "      <td>320</td>\n",
              "      <td>320</td>\n",
              "      <td>291</td>\n",
              "      <td>320</td>\n",
              "      <td>320</td>\n",
              "      <td>320</td>\n",
              "      <td>320</td>\n",
              "      <td>320</td>\n",
              "      <td>10</td>\n",
              "      <td>320</td>\n",
              "      <td>320</td>\n",
              "      <td>320</td>\n",
              "    </tr>\n",
              "    <tr>\n",
              "      <th>unique</th>\n",
              "      <td>68</td>\n",
              "      <td>1</td>\n",
              "      <td>1</td>\n",
              "      <td>6</td>\n",
              "      <td>7</td>\n",
              "      <td>4</td>\n",
              "      <td>31</td>\n",
              "      <td>31</td>\n",
              "      <td>2</td>\n",
              "      <td>107</td>\n",
              "      <td>115</td>\n",
              "      <td>56</td>\n",
              "    </tr>\n",
              "    <tr>\n",
              "      <th>top</th>\n",
              "      <td>MORSC8723276794</td>\n",
              "      <td>CAPITAL</td>\n",
              "      <td>CAPITAL</td>\n",
              "      <td>WHGASKY</td>\n",
              "      <td>WHGASKYPX</td>\n",
              "      <td>US Southeast</td>\n",
              "      <td>GRU06</td>\n",
              "      <td>PBRGRU06G</td>\n",
              "      <td>US Central</td>\n",
              "      <td>07048132</td>\n",
              "      <td>2016-07-06 08:08:16</td>\n",
              "      <td>2016-11-16 04:00:00</td>\n",
              "    </tr>\n",
              "    <tr>\n",
              "      <th>freq</th>\n",
              "      <td>16</td>\n",
              "      <td>320</td>\n",
              "      <td>291</td>\n",
              "      <td>157</td>\n",
              "      <td>157</td>\n",
              "      <td>158</td>\n",
              "      <td>54</td>\n",
              "      <td>54</td>\n",
              "      <td>8</td>\n",
              "      <td>10</td>\n",
              "      <td>16</td>\n",
              "      <td>25</td>\n",
              "    </tr>\n",
              "  </tbody>\n",
              "</table>\n",
              "</div>"
            ],
            "text/plain": [
              "        MoveOrderNumber  ...  ShipmentDeliveryUTC\n",
              "count               320  ...                  320\n",
              "unique               68  ...                   56\n",
              "top     MORSC8723276794  ...  2016-11-16 04:00:00\n",
              "freq                 16  ...                   25\n",
              "\n",
              "[4 rows x 12 columns]"
            ]
          },
          "metadata": {},
          "execution_count": 71
        }
      ]
    },
    {
      "cell_type": "code",
      "metadata": {
        "colab": {
          "base_uri": "https://localhost:8080/",
          "height": 143
        },
        "id": "CpgvZ4ZcblVL",
        "outputId": "99d2dd45-e5cb-4c22-fcf5-1b13e4b1f1ba"
      },
      "source": [
        "# Display pairwise columns that are correlated\n",
        "dataframe.corr()"
      ],
      "execution_count": null,
      "outputs": [
        {
          "output_type": "execute_result",
          "data": {
            "text/html": [
              "<div>\n",
              "<style scoped>\n",
              "    .dataframe tbody tr th:only-of-type {\n",
              "        vertical-align: middle;\n",
              "    }\n",
              "\n",
              "    .dataframe tbody tr th {\n",
              "        vertical-align: top;\n",
              "    }\n",
              "\n",
              "    .dataframe thead th {\n",
              "        text-align: right;\n",
              "    }\n",
              "</style>\n",
              "<table border=\"1\" class=\"dataframe\">\n",
              "  <thead>\n",
              "    <tr style=\"text-align: right;\">\n",
              "      <th></th>\n",
              "      <th>LineNumber</th>\n",
              "      <th>LineRequestedQuantity</th>\n",
              "      <th>LineShippedQuantity</th>\n",
              "    </tr>\n",
              "  </thead>\n",
              "  <tbody>\n",
              "    <tr>\n",
              "      <th>LineNumber</th>\n",
              "      <td>1.000000</td>\n",
              "      <td>-0.029280</td>\n",
              "      <td>-0.033007</td>\n",
              "    </tr>\n",
              "    <tr>\n",
              "      <th>LineRequestedQuantity</th>\n",
              "      <td>-0.029280</td>\n",
              "      <td>1.000000</td>\n",
              "      <td>0.967022</td>\n",
              "    </tr>\n",
              "    <tr>\n",
              "      <th>LineShippedQuantity</th>\n",
              "      <td>-0.033007</td>\n",
              "      <td>0.967022</td>\n",
              "      <td>1.000000</td>\n",
              "    </tr>\n",
              "  </tbody>\n",
              "</table>\n",
              "</div>"
            ],
            "text/plain": [
              "                       LineNumber  LineRequestedQuantity  LineShippedQuantity\n",
              "LineNumber               1.000000              -0.029280            -0.033007\n",
              "LineRequestedQuantity   -0.029280               1.000000             0.967022\n",
              "LineShippedQuantity     -0.033007               0.967022             1.000000"
            ]
          },
          "metadata": {},
          "execution_count": 72
        }
      ]
    },
    {
      "cell_type": "code",
      "metadata": {
        "colab": {
          "base_uri": "https://localhost:8080/",
          "height": 143
        },
        "id": "H2F-YRmebpB6",
        "outputId": "98b14436-6eba-4405-f768-31be53172d1a"
      },
      "source": [
        "# Check for a pattern in missing data (pairwise correlation)\n",
        "null_data.corr()"
      ],
      "execution_count": null,
      "outputs": [
        {
          "output_type": "execute_result",
          "data": {
            "text/html": [
              "<div>\n",
              "<style scoped>\n",
              "    .dataframe tbody tr th:only-of-type {\n",
              "        vertical-align: middle;\n",
              "    }\n",
              "\n",
              "    .dataframe tbody tr th {\n",
              "        vertical-align: top;\n",
              "    }\n",
              "\n",
              "    .dataframe thead th {\n",
              "        text-align: right;\n",
              "    }\n",
              "</style>\n",
              "<table border=\"1\" class=\"dataframe\">\n",
              "  <thead>\n",
              "    <tr style=\"text-align: right;\">\n",
              "      <th></th>\n",
              "      <th>LineNumber</th>\n",
              "      <th>LineRequestedQuantity</th>\n",
              "      <th>LineShippedQuantity</th>\n",
              "    </tr>\n",
              "  </thead>\n",
              "  <tbody>\n",
              "    <tr>\n",
              "      <th>LineNumber</th>\n",
              "      <td>1.000000</td>\n",
              "      <td>-0.094032</td>\n",
              "      <td>-0.094032</td>\n",
              "    </tr>\n",
              "    <tr>\n",
              "      <th>LineRequestedQuantity</th>\n",
              "      <td>-0.094032</td>\n",
              "      <td>1.000000</td>\n",
              "      <td>1.000000</td>\n",
              "    </tr>\n",
              "    <tr>\n",
              "      <th>LineShippedQuantity</th>\n",
              "      <td>-0.094032</td>\n",
              "      <td>1.000000</td>\n",
              "      <td>1.000000</td>\n",
              "    </tr>\n",
              "  </tbody>\n",
              "</table>\n",
              "</div>"
            ],
            "text/plain": [
              "                       LineNumber  LineRequestedQuantity  LineShippedQuantity\n",
              "LineNumber               1.000000              -0.094032            -0.094032\n",
              "LineRequestedQuantity   -0.094032               1.000000             1.000000\n",
              "LineShippedQuantity     -0.094032               1.000000             1.000000"
            ]
          },
          "metadata": {},
          "execution_count": 74
        }
      ]
    },
    {
      "cell_type": "markdown",
      "metadata": {
        "id": "jLQXhXM1dyXz"
      },
      "source": [
        "# *Data Cleaning*\n",
        "Objective: Converting and Imputing Variables for Modeling & Visualization"
      ]
    },
    {
      "cell_type": "code",
      "metadata": {
        "colab": {
          "base_uri": "https://localhost:8080/"
        },
        "id": "tOsZTYVMceGi",
        "outputId": "c6d6f1fb-c441-4976-9472-6e78b794ab90"
      },
      "source": [
        "# Convert text strings to datetime data type\n",
        "dataframe['FirstShipmentDate'] = pd.to_datetime(dataframe['FirstShipmentDate'])\n",
        "dataframe['ShipmentDeliveryUTC'] = pd.to_datetime(dataframe['ShipmentDeliveryUTC'])\n",
        "dataframe.dtypes"
      ],
      "execution_count": null,
      "outputs": [
        {
          "output_type": "execute_result",
          "data": {
            "text/plain": [
              "MoveOrderNumber                  object\n",
              "FromIntendedUseForLoc            object\n",
              "ToIntendedUseForLoc              object\n",
              "FromWarehouse                    object\n",
              "FromLocation                     object\n",
              "FromRegion                       object\n",
              "ToWarehouse                      object\n",
              "TOLocation                       object\n",
              "ToRegion                         object\n",
              "LineNumber                        int64\n",
              "LineGPN                          object\n",
              "LineRequestedQuantity             int64\n",
              "LineShippedQuantity               int64\n",
              "FirstShipmentDate        datetime64[ns]\n",
              "ShipmentDeliveryUTC      datetime64[ns]\n",
              "dtype: object"
            ]
          },
          "metadata": {},
          "execution_count": 84
        }
      ]
    },
    {
      "cell_type": "code",
      "metadata": {
        "id": "G7hKgVKHgtld"
      },
      "source": [
        "# NEXT STEPS ----->\n",
        "# Drop rows with missing values\n",
        "# Create new_df (dataframe without rows containing missing entries)\n",
        "# Convert DatetimeIndex to PeriodIndex with the to_period() function with the \n",
        "# addition of a frequency code (daily, hourly, etc)\n",
        "# Create new TimedeltaIndex by subtracing one date from another (ex column with : 1 day, 2 days, etc)\n",
        "# Break up into time chunks using .date_range()"
      ],
      "execution_count": null,
      "outputs": []
    }
  ]
}